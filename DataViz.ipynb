{
 "cells": [
  {
   "cell_type": "code",
   "execution_count": 150,
   "metadata": {},
   "outputs": [],
   "source": [
    "##PRE-TRAITEMENT \n",
    "import pandas as pd\n",
    "s1_df = pd.read_pickle(\"./PPG_FieldStudy/S1/S1.pkl\")"
   ]
  },
  {
   "cell_type": "code",
   "execution_count": 88,
   "metadata": {},
   "outputs": [
    {
     "data": {
      "text/plain": [
       "dict_keys(['rpeaks', 'signal', 'label', 'activity', 'questionnaire', 'subject'])"
      ]
     },
     "execution_count": 88,
     "metadata": {},
     "output_type": "execute_result"
    }
   ],
   "source": [
    "s1_df.keys()"
   ]
  },
  {
   "cell_type": "code",
   "execution_count": 89,
   "metadata": {},
   "outputs": [],
   "source": [
    " x = s1_df.copy()"
   ]
  },
  {
   "cell_type": "code",
   "execution_count": 90,
   "metadata": {},
   "outputs": [
    {
     "data": {
      "text/plain": [
       "(36848, 1)"
      ]
     },
     "execution_count": 90,
     "metadata": {},
     "output_type": "execute_result"
    }
   ],
   "source": [
    " x[\"activity\"].shape"
   ]
  },
  {
   "cell_type": "code",
   "execution_count": 6,
   "metadata": {},
   "outputs": [
    {
     "data": {
      "text/plain": [
       "(4603,)"
      ]
     },
     "execution_count": 6,
     "metadata": {},
     "output_type": "execute_result"
    }
   ],
   "source": [
    " x[\"label\"].shape"
   ]
  },
  {
   "cell_type": "code",
   "execution_count": 7,
   "metadata": {},
   "outputs": [
    {
     "data": {
      "text/plain": [
       "{'WEIGHT': 78.0,\n",
       " 'Gender': ' m',\n",
       " 'AGE': 34,\n",
       " 'HEIGHT': 182.0,\n",
       " 'SKIN': 3,\n",
       " 'SPORT': 6}"
      ]
     },
     "execution_count": 7,
     "metadata": {},
     "output_type": "execute_result"
    }
   ],
   "source": [
    " x[\"questionnaire\"]"
   ]
  },
  {
   "cell_type": "code",
   "execution_count": 8,
   "metadata": {},
   "outputs": [
    {
     "data": {
      "text/plain": [
       "(11431,)"
      ]
     },
     "execution_count": 8,
     "metadata": {},
     "output_type": "execute_result"
    }
   ],
   "source": [
    " x[\"rpeaks\"].shape"
   ]
  },
  {
   "cell_type": "code",
   "execution_count": 9,
   "metadata": {},
   "outputs": [
    {
     "data": {
      "text/plain": [
       "{'chest': {'ACC': array([[ 0.85640001, -0.06779999, -0.36559999],\n",
       "         [ 0.8556    , -0.06900001, -0.3646    ],\n",
       "         [ 0.852     , -0.07020003, -0.3642    ],\n",
       "         ...,\n",
       "         [ 0.88759995, -0.1038    , -0.27920002],\n",
       "         [ 0.88619995, -0.10159999, -0.27819997],\n",
       "         [ 0.88680005, -0.10140002, -0.27380002]]), 'ECG': array([[0.01560974],\n",
       "         [0.01812744],\n",
       "         [0.01753235],\n",
       "         ...,\n",
       "         [0.21368408],\n",
       "         [0.21556091],\n",
       "         [0.21702576]]), 'EMG': array([[-1.5],\n",
       "         [-1.5],\n",
       "         [-1.5],\n",
       "         ...,\n",
       "         [-1.5],\n",
       "         [-1.5],\n",
       "         [-1.5]]), 'EDA': array([[0.],\n",
       "         [0.],\n",
       "         [0.],\n",
       "         ...,\n",
       "         [0.],\n",
       "         [0.],\n",
       "         [0.]]), 'Temp': array([[-273.15],\n",
       "         [-273.15],\n",
       "         [-273.15],\n",
       "         ...,\n",
       "         [-273.15],\n",
       "         [-273.15],\n",
       "         [-273.15]], dtype=float32), 'Resp': array([[ 4.4418335 ],\n",
       "         [ 4.45098877],\n",
       "         [ 4.47387695],\n",
       "         ...,\n",
       "         [-3.05023193],\n",
       "         [-3.05328369],\n",
       "         [-3.05633545]])},\n",
       " 'wrist': {'ACC': array([[-0.765625, -0.078125,  0.671875],\n",
       "         [-0.765625, -0.078125,  0.65625 ],\n",
       "         [-0.765625, -0.078125,  0.671875],\n",
       "         ...,\n",
       "         [-0.375   , -0.015625,  0.9375  ],\n",
       "         [-0.390625,  0.      ,  0.9375  ],\n",
       "         [-0.375   ,  0.      ,  0.9375  ]]), 'BVP': array([[  7.28],\n",
       "         [  6.33],\n",
       "         [  5.46],\n",
       "         ...,\n",
       "         [105.02],\n",
       "         [109.44],\n",
       "         [111.06]]), 'EDA': array([[4.722437],\n",
       "         [4.728843],\n",
       "         [4.718594],\n",
       "         ...,\n",
       "         [3.170867],\n",
       "         [3.159336],\n",
       "         [3.151649]]), 'TEMP': array([[32.13],\n",
       "         [32.16],\n",
       "         [32.16],\n",
       "         ...,\n",
       "         [34.37],\n",
       "         [34.37],\n",
       "         [34.37]])}}"
      ]
     },
     "execution_count": 9,
     "metadata": {},
     "output_type": "execute_result"
    }
   ],
   "source": [
    " x[\"signal\"] "
   ]
  },
  {
   "cell_type": "code",
   "execution_count": 10,
   "metadata": {},
   "outputs": [
    {
     "data": {
      "text/html": [
       "<div>\n",
       "<style scoped>\n",
       "    .dataframe tbody tr th:only-of-type {\n",
       "        vertical-align: middle;\n",
       "    }\n",
       "\n",
       "    .dataframe tbody tr th {\n",
       "        vertical-align: top;\n",
       "    }\n",
       "\n",
       "    .dataframe thead th {\n",
       "        text-align: right;\n",
       "    }\n",
       "</style>\n",
       "<table border=\"1\" class=\"dataframe\">\n",
       "  <thead>\n",
       "    <tr style=\"text-align: right;\">\n",
       "      <th></th>\n",
       "      <th>chest</th>\n",
       "      <th>wrist</th>\n",
       "    </tr>\n",
       "  </thead>\n",
       "  <tbody>\n",
       "    <tr>\n",
       "      <th>ACC</th>\n",
       "      <td>[[0.8564000129699707, -0.06779998540878296, -0...</td>\n",
       "      <td>[[-0.765625, -0.078125, 0.671875], [-0.765625,...</td>\n",
       "    </tr>\n",
       "    <tr>\n",
       "      <th>ECG</th>\n",
       "      <td>[[0.015609741210937498], [0.01812744140625], [...</td>\n",
       "      <td>NaN</td>\n",
       "    </tr>\n",
       "    <tr>\n",
       "      <th>EMG</th>\n",
       "      <td>[[-1.5], [-1.5], [-1.5], [-1.5], [-1.5], [-1.5...</td>\n",
       "      <td>NaN</td>\n",
       "    </tr>\n",
       "    <tr>\n",
       "      <th>EDA</th>\n",
       "      <td>[[0.0], [0.0], [0.0], [0.0], [0.0], [0.0], [0....</td>\n",
       "      <td>[[4.722437], [4.728843], [4.718594], [4.717312...</td>\n",
       "    </tr>\n",
       "    <tr>\n",
       "      <th>Temp</th>\n",
       "      <td>[[-273.15], [-273.15], [-273.15], [-273.15], [...</td>\n",
       "      <td>NaN</td>\n",
       "    </tr>\n",
       "    <tr>\n",
       "      <th>Resp</th>\n",
       "      <td>[[4.44183349609375], [4.45098876953125], [4.47...</td>\n",
       "      <td>NaN</td>\n",
       "    </tr>\n",
       "    <tr>\n",
       "      <th>BVP</th>\n",
       "      <td>NaN</td>\n",
       "      <td>[[7.28], [6.33], [5.46], [4.6], [3.74], [2.86]...</td>\n",
       "    </tr>\n",
       "    <tr>\n",
       "      <th>TEMP</th>\n",
       "      <td>NaN</td>\n",
       "      <td>[[32.13], [32.16], [32.16], [32.16], [32.16], ...</td>\n",
       "    </tr>\n",
       "  </tbody>\n",
       "</table>\n",
       "</div>"
      ],
      "text/plain": [
       "                                                  chest  \\\n",
       "ACC   [[0.8564000129699707, -0.06779998540878296, -0...   \n",
       "ECG   [[0.015609741210937498], [0.01812744140625], [...   \n",
       "EMG   [[-1.5], [-1.5], [-1.5], [-1.5], [-1.5], [-1.5...   \n",
       "EDA   [[0.0], [0.0], [0.0], [0.0], [0.0], [0.0], [0....   \n",
       "Temp  [[-273.15], [-273.15], [-273.15], [-273.15], [...   \n",
       "Resp  [[4.44183349609375], [4.45098876953125], [4.47...   \n",
       "BVP                                                 NaN   \n",
       "TEMP                                                NaN   \n",
       "\n",
       "                                                  wrist  \n",
       "ACC   [[-0.765625, -0.078125, 0.671875], [-0.765625,...  \n",
       "ECG                                                 NaN  \n",
       "EMG                                                 NaN  \n",
       "EDA   [[4.722437], [4.728843], [4.718594], [4.717312...  \n",
       "Temp                                                NaN  \n",
       "Resp                                                NaN  \n",
       "BVP   [[7.28], [6.33], [5.46], [4.6], [3.74], [2.86]...  \n",
       "TEMP  [[32.13], [32.16], [32.16], [32.16], [32.16], ...  "
      ]
     },
     "execution_count": 10,
     "metadata": {},
     "output_type": "execute_result"
    }
   ],
   "source": [
    "pd.DataFrame(x[\"signal\"])"
   ]
  },
  {
   "cell_type": "code",
   "execution_count": 12,
   "metadata": {},
   "outputs": [
    {
     "name": "stdout",
     "output_type": "stream",
     "text": [
      "all keys : dict_keys(['rpeaks', 'signal', 'label', 'activity', 'questionnaire', 'subject'])\n",
      "clefs ok = ['rpeaks', 'signal', 'label', 'activity']\n",
      "clefs avec un pbms = ['questionnaireIf using all scalar values, you must pass an index', 'subjectDataFrame constructor not properly called!']\n"
     ]
    }
   ],
   "source": [
    "dfs  = []\n",
    "pbms = []\n",
    "oks  = []\n",
    "print(f\"all keys : {s1_df.keys()}\")\n",
    "for k in s1_df.keys():\n",
    "    try:\n",
    "        df = pd.DataFrame(s1_df[k]) \n",
    "        dfs.append(df)\n",
    "        oks.append(k)\n",
    "    except Exception as e:\n",
    "        pbms.append(k + str(e))\n",
    "print(f\"clefs ok = {oks}\")\n",
    "print(f\"clefs avec un pbms = {pbms}\")"
   ]
  },
  {
   "cell_type": "code",
   "execution_count": 13,
   "metadata": {},
   "outputs": [
    {
     "name": "stdout",
     "output_type": "stream",
     "text": [
      "(11431, 1)\n",
      "      0\n",
      "0   240\n",
      "1  1174\n",
      "(8, 2)\n",
      "                                                 chest  \\\n",
      "ACC  [[0.8564000129699707, -0.06779998540878296, -0...   \n",
      "ECG  [[0.015609741210937498], [0.01812744140625], [...   \n",
      "\n",
      "                                                 wrist  \n",
      "ACC  [[-0.765625, -0.078125, 0.671875], [-0.765625,...  \n",
      "ECG                                                NaN  \n",
      "(4603, 1)\n",
      "           0\n",
      "0  49.611369\n",
      "1  50.323992\n",
      "(36848, 1)\n",
      "     0\n",
      "0  0.0\n",
      "1  0.0\n"
     ]
    }
   ],
   "source": [
    "for df in dfs:\n",
    "    print(df.shape)\n",
    "    print(df.head(2))"
   ]
  },
  {
   "cell_type": "code",
   "execution_count": 14,
   "metadata": {},
   "outputs": [
    {
     "data": {
      "text/plain": [
       "array([49.61136908, 50.32399248, 52.70833578, ..., 84.004991  ,\n",
       "       85.79625673, 87.4113988 ])"
      ]
     },
     "execution_count": 14,
     "metadata": {},
     "output_type": "execute_result"
    }
   ],
   "source": [
    " dfs[2][0].unique()"
   ]
  },
  {
   "cell_type": "code",
   "execution_count": 15,
   "metadata": {},
   "outputs": [
    {
     "data": {
      "text/plain": [
       "(4603, 1)"
      ]
     },
     "execution_count": 15,
     "metadata": {},
     "output_type": "execute_result"
    }
   ],
   "source": [
    " dfs[2].shape"
   ]
  },
  {
   "cell_type": "code",
   "execution_count": 16,
   "metadata": {},
   "outputs": [
    {
     "data": {
      "text/plain": [
       "50.323992482870175"
      ]
     },
     "execution_count": 16,
     "metadata": {},
     "output_type": "execute_result"
    }
   ],
   "source": [
    " dfs[2][0][1]"
   ]
  },
  {
   "cell_type": "code",
   "execution_count": 17,
   "metadata": {},
   "outputs": [],
   "source": [
    "newLabel = []\n",
    "for i in range(len(dfs[2])):\n",
    "    for x in range(8):\n",
    "        newLabel.append(dfs[2][0][i])"
   ]
  },
  {
   "cell_type": "code",
   "execution_count": 18,
   "metadata": {},
   "outputs": [],
   "source": [
    " newLabel = pd.DataFrame(newLabel)"
   ]
  },
  {
   "cell_type": "code",
   "execution_count": 19,
   "metadata": {},
   "outputs": [
    {
     "data": {
      "text/plain": [
       "(36824, 1)"
      ]
     },
     "execution_count": 19,
     "metadata": {},
     "output_type": "execute_result"
    }
   ],
   "source": [
    " newLabel.shape"
   ]
  },
  {
   "cell_type": "code",
   "execution_count": 20,
   "metadata": {},
   "outputs": [],
   "source": [
    "frames = []\n",
    "for i in range(0, 24) :\n",
    "  frames.append(newLabel.iloc[36823])\n",
    "\n",
    "lastValues = pd.concat(frames)\n",
    "lastValues.head()\n",
    "\n",
    "newLabel = pd.concat([newLabel, lastValues], ignore_index=True)"
   ]
  },
  {
   "cell_type": "code",
   "execution_count": 21,
   "metadata": {},
   "outputs": [
    {
     "data": {
      "text/plain": [
       "(36848, 1)"
      ]
     },
     "execution_count": 21,
     "metadata": {},
     "output_type": "execute_result"
    }
   ],
   "source": [
    " newLabel.shape"
   ]
  },
  {
   "cell_type": "code",
   "execution_count": 22,
   "metadata": {},
   "outputs": [
    {
     "data": {
      "text/plain": [
       "(36848, 1)"
      ]
     },
     "execution_count": 22,
     "metadata": {},
     "output_type": "execute_result"
    }
   ],
   "source": [
    " dfs[3].shape"
   ]
  },
  {
   "cell_type": "code",
   "execution_count": 23,
   "metadata": {},
   "outputs": [
    {
     "data": {
      "text/html": [
       "<div>\n",
       "<style scoped>\n",
       "    .dataframe tbody tr th:only-of-type {\n",
       "        vertical-align: middle;\n",
       "    }\n",
       "\n",
       "    .dataframe tbody tr th {\n",
       "        vertical-align: top;\n",
       "    }\n",
       "\n",
       "    .dataframe thead th {\n",
       "        text-align: right;\n",
       "    }\n",
       "</style>\n",
       "<table border=\"1\" class=\"dataframe\">\n",
       "  <thead>\n",
       "    <tr style=\"text-align: right;\">\n",
       "      <th></th>\n",
       "      <th>chest</th>\n",
       "      <th>wrist</th>\n",
       "    </tr>\n",
       "  </thead>\n",
       "  <tbody>\n",
       "    <tr>\n",
       "      <th>ACC</th>\n",
       "      <td>[[0.8564000129699707, -0.06779998540878296, -0...</td>\n",
       "      <td>[[-0.765625, -0.078125, 0.671875], [-0.765625,...</td>\n",
       "    </tr>\n",
       "    <tr>\n",
       "      <th>ECG</th>\n",
       "      <td>[[0.015609741210937498], [0.01812744140625], [...</td>\n",
       "      <td>NaN</td>\n",
       "    </tr>\n",
       "    <tr>\n",
       "      <th>EMG</th>\n",
       "      <td>[[-1.5], [-1.5], [-1.5], [-1.5], [-1.5], [-1.5...</td>\n",
       "      <td>NaN</td>\n",
       "    </tr>\n",
       "    <tr>\n",
       "      <th>EDA</th>\n",
       "      <td>[[0.0], [0.0], [0.0], [0.0], [0.0], [0.0], [0....</td>\n",
       "      <td>[[4.722437], [4.728843], [4.718594], [4.717312...</td>\n",
       "    </tr>\n",
       "    <tr>\n",
       "      <th>Temp</th>\n",
       "      <td>[[-273.15], [-273.15], [-273.15], [-273.15], [...</td>\n",
       "      <td>NaN</td>\n",
       "    </tr>\n",
       "    <tr>\n",
       "      <th>Resp</th>\n",
       "      <td>[[4.44183349609375], [4.45098876953125], [4.47...</td>\n",
       "      <td>NaN</td>\n",
       "    </tr>\n",
       "    <tr>\n",
       "      <th>BVP</th>\n",
       "      <td>NaN</td>\n",
       "      <td>[[7.28], [6.33], [5.46], [4.6], [3.74], [2.86]...</td>\n",
       "    </tr>\n",
       "    <tr>\n",
       "      <th>TEMP</th>\n",
       "      <td>NaN</td>\n",
       "      <td>[[32.13], [32.16], [32.16], [32.16], [32.16], ...</td>\n",
       "    </tr>\n",
       "  </tbody>\n",
       "</table>\n",
       "</div>"
      ],
      "text/plain": [
       "                                                  chest  \\\n",
       "ACC   [[0.8564000129699707, -0.06779998540878296, -0...   \n",
       "ECG   [[0.015609741210937498], [0.01812744140625], [...   \n",
       "EMG   [[-1.5], [-1.5], [-1.5], [-1.5], [-1.5], [-1.5...   \n",
       "EDA   [[0.0], [0.0], [0.0], [0.0], [0.0], [0.0], [0....   \n",
       "Temp  [[-273.15], [-273.15], [-273.15], [-273.15], [...   \n",
       "Resp  [[4.44183349609375], [4.45098876953125], [4.47...   \n",
       "BVP                                                 NaN   \n",
       "TEMP                                                NaN   \n",
       "\n",
       "                                                  wrist  \n",
       "ACC   [[-0.765625, -0.078125, 0.671875], [-0.765625,...  \n",
       "ECG                                                 NaN  \n",
       "EMG                                                 NaN  \n",
       "EDA   [[4.722437], [4.728843], [4.718594], [4.717312...  \n",
       "Temp                                                NaN  \n",
       "Resp                                                NaN  \n",
       "BVP   [[7.28], [6.33], [5.46], [4.6], [3.74], [2.86]...  \n",
       "TEMP  [[32.13], [32.16], [32.16], [32.16], [32.16], ...  "
      ]
     },
     "execution_count": 23,
     "metadata": {},
     "output_type": "execute_result"
    }
   ],
   "source": [
    " dfs[1]"
   ]
  },
  {
   "cell_type": "code",
   "execution_count": 24,
   "metadata": {},
   "outputs": [
    {
     "data": {
      "text/plain": [
       "ACC     [[0.8564000129699707, -0.06779998540878296, -0...\n",
       "ECG     [[0.015609741210937498], [0.01812744140625], [...\n",
       "EMG     [[-1.5], [-1.5], [-1.5], [-1.5], [-1.5], [-1.5...\n",
       "EDA     [[0.0], [0.0], [0.0], [0.0], [0.0], [0.0], [0....\n",
       "Temp    [[-273.15], [-273.15], [-273.15], [-273.15], [...\n",
       "Resp    [[4.44183349609375], [4.45098876953125], [4.47...\n",
       "BVP                                                   NaN\n",
       "TEMP                                                  NaN\n",
       "Name: chest, dtype: object"
      ]
     },
     "execution_count": 24,
     "metadata": {},
     "output_type": "execute_result"
    }
   ],
   "source": [
    " dfs[1][\"chest\"]"
   ]
  },
  {
   "cell_type": "code",
   "execution_count": 25,
   "metadata": {},
   "outputs": [
    {
     "name": "stdout",
     "output_type": "stream",
     "text": [
      "(294784, 3)\n",
      "(36848, 1)\n",
      "(589568, 1)\n",
      "(36848, 1)\n"
     ]
    }
   ],
   "source": [
    "index = [0, 3, 6, 7]\n",
    "\n",
    "for i in index:\n",
    "  print(dfs[1][\"wrist\"][i].shape)"
   ]
  },
  {
   "cell_type": "code",
   "execution_count": 26,
   "metadata": {},
   "outputs": [
    {
     "name": "stdout",
     "output_type": "stream",
     "text": [
      "(6448400, 3)\n",
      "(6448400, 1)\n",
      "(6448400, 1)\n",
      "(6448400, 1)\n",
      "(6448400, 1)\n",
      "(6448400, 1)\n"
     ]
    }
   ],
   "source": [
    " index = [0, 1, 2, 3, 4, 5]\n",
    "\n",
    "for i in index:\n",
    "  print(dfs[1][\"chest\"][i].shape)"
   ]
  },
  {
   "cell_type": "code",
   "execution_count": 27,
   "metadata": {},
   "outputs": [
    {
     "data": {
      "text/plain": [
       "36848"
      ]
     },
     "execution_count": 27,
     "metadata": {},
     "output_type": "execute_result"
    }
   ],
   "source": [
    "i = 0\n",
    "tabIndex = [] \n",
    "while i < 6448400 :\n",
    "  tabIndex.append(i)\n",
    "  i = i + 175\n",
    "\n",
    "len(tabIndex)"
   ]
  },
  {
   "cell_type": "code",
   "execution_count": 28,
   "metadata": {},
   "outputs": [
    {
     "data": {
      "text/plain": [
       "numpy.ndarray"
      ]
     },
     "execution_count": 28,
     "metadata": {},
     "output_type": "execute_result"
    }
   ],
   "source": [
    " type(dfs[1][\"chest\"][0])"
   ]
  },
  {
   "cell_type": "code",
   "execution_count": 29,
   "metadata": {},
   "outputs": [],
   "source": [
    "newChestACC = [dfs[1][\"chest\"][0][x-1] for x in tabIndex]\n",
    "\n",
    "newChestECG = [dfs[1][\"chest\"][1][x-1] for x in tabIndex]\n",
    "\n",
    "newChestResp = [dfs[1][\"chest\"][5][x-1] for x in tabIndex]\n",
    "\n",
    "ChestACC = pd.DataFrame(newChestACC)\n",
    "ChestECG = pd.DataFrame(newChestECG)\n",
    "ChestResp = pd.DataFrame(newChestResp)"
   ]
  },
  {
   "cell_type": "code",
   "execution_count": 30,
   "metadata": {},
   "outputs": [
    {
     "data": {
      "text/plain": [
       "36848"
      ]
     },
     "execution_count": 30,
     "metadata": {},
     "output_type": "execute_result"
    }
   ],
   "source": [
    "#tabIndexACC\n",
    "i = 0\n",
    "tabIndexACC = [] \n",
    "# i jusque l'index max \n",
    "while i < 294784 :\n",
    "  tabIndexACC.append(i)\n",
    "  i = i + 8\n",
    "\n",
    "len(tabIndexACC)\n",
    "\n",
    "#tabIndexACC\n",
    "i = 0\n",
    "tabIndexBVP = [] \n",
    "# i jusque l'index max \n",
    "while i < 589568 :\n",
    "  tabIndexBVP.append(i)\n",
    "  i = i + 16\n",
    "\n",
    "len(tabIndexBVP)"
   ]
  },
  {
   "cell_type": "code",
   "execution_count": 31,
   "metadata": {},
   "outputs": [],
   "source": [
    " newWristACC = [dfs[1][\"wrist\"][0][x-1] for x in tabIndexACC]\n",
    "\n",
    "newWristBVP = [dfs[1][\"wrist\"][6][x-1] for x in tabIndexBVP]\n",
    "\n",
    "WristACC = pd.DataFrame(newWristACC)\n",
    "WristBVP = pd.DataFrame(newWristBVP)\n",
    "WristEDA = pd.DataFrame(dfs[1][\"wrist\"][3])\n",
    "WristTemp = pd.DataFrame(dfs[1][\"wrist\"][7])"
   ]
  },
  {
   "cell_type": "code",
   "execution_count": 34,
   "metadata": {},
   "outputs": [],
   "source": [
    " df1['Activity'] = dfs[3][0]\n",
    "df1['ChestAccChannel1'] = ChestACC[0]\n",
    "df1['ChestAccChannel2'] = ChestACC[1]\n",
    "df1['ChestAccChannel3'] = ChestACC[2]\n",
    "df1['ChestECG'] = ChestECG[0]\n",
    "df1['ChestResp'] = ChestResp[0]\n",
    "df1['WristAccChannel1'] = WristACC[0]\n",
    "df1['WristAccChannel2'] = WristACC[1]\n",
    "df1['WristAccChannel3'] = WristACC[2]\n",
    "df1['WristBVP'] = WristBVP[0]\n",
    "df1['WristEDA'] = WristEDA[0]\n",
    "df1['WristTemp'] = WristTemp[0]\n",
    "df1['Subject'] = \"S1\""
   ]
  },
  {
   "cell_type": "code",
   "execution_count": 35,
   "metadata": {},
   "outputs": [],
   "source": [
    " df1[\"Label\"] = newLabel[0]"
   ]
  },
  {
   "cell_type": "code",
   "execution_count": 36,
   "metadata": {},
   "outputs": [
    {
     "data": {
      "text/html": [
       "<div>\n",
       "<style scoped>\n",
       "    .dataframe tbody tr th:only-of-type {\n",
       "        vertical-align: middle;\n",
       "    }\n",
       "\n",
       "    .dataframe tbody tr th {\n",
       "        vertical-align: top;\n",
       "    }\n",
       "\n",
       "    .dataframe thead th {\n",
       "        text-align: right;\n",
       "    }\n",
       "</style>\n",
       "<table border=\"1\" class=\"dataframe\">\n",
       "  <thead>\n",
       "    <tr style=\"text-align: right;\">\n",
       "      <th></th>\n",
       "      <th>Subject</th>\n",
       "      <th>Activity</th>\n",
       "      <th>ChestAccChannel1</th>\n",
       "      <th>ChestAccChannel2</th>\n",
       "      <th>ChestAccChannel3</th>\n",
       "      <th>ChestECG</th>\n",
       "      <th>ChestResp</th>\n",
       "      <th>WristAccChannel1</th>\n",
       "      <th>WristAccChannel2</th>\n",
       "      <th>WristAccChannel3</th>\n",
       "      <th>WristBVP</th>\n",
       "      <th>WristEDA</th>\n",
       "      <th>WristTemp</th>\n",
       "      <th>Label</th>\n",
       "    </tr>\n",
       "  </thead>\n",
       "  <tbody>\n",
       "    <tr>\n",
       "      <th>0</th>\n",
       "      <td>S1</td>\n",
       "      <td>0.0</td>\n",
       "      <td>0.8868</td>\n",
       "      <td>-0.1014</td>\n",
       "      <td>-0.2738</td>\n",
       "      <td>0.217026</td>\n",
       "      <td>-3.056335</td>\n",
       "      <td>-0.375000</td>\n",
       "      <td>0.000000</td>\n",
       "      <td>0.937500</td>\n",
       "      <td>111.06</td>\n",
       "      <td>4.722437</td>\n",
       "      <td>32.13</td>\n",
       "      <td>49.611369</td>\n",
       "    </tr>\n",
       "    <tr>\n",
       "      <th>1</th>\n",
       "      <td>S1</td>\n",
       "      <td>0.0</td>\n",
       "      <td>0.8498</td>\n",
       "      <td>-0.0630</td>\n",
       "      <td>-0.3676</td>\n",
       "      <td>-0.015930</td>\n",
       "      <td>4.914856</td>\n",
       "      <td>-0.765625</td>\n",
       "      <td>-0.078125</td>\n",
       "      <td>0.671875</td>\n",
       "      <td>-9.84</td>\n",
       "      <td>4.728843</td>\n",
       "      <td>32.16</td>\n",
       "      <td>49.611369</td>\n",
       "    </tr>\n",
       "    <tr>\n",
       "      <th>2</th>\n",
       "      <td>S1</td>\n",
       "      <td>0.0</td>\n",
       "      <td>0.8504</td>\n",
       "      <td>-0.0648</td>\n",
       "      <td>-0.3706</td>\n",
       "      <td>-0.006912</td>\n",
       "      <td>3.370667</td>\n",
       "      <td>-0.750000</td>\n",
       "      <td>-0.078125</td>\n",
       "      <td>0.671875</td>\n",
       "      <td>-46.31</td>\n",
       "      <td>4.718594</td>\n",
       "      <td>32.16</td>\n",
       "      <td>49.611369</td>\n",
       "    </tr>\n",
       "    <tr>\n",
       "      <th>3</th>\n",
       "      <td>S1</td>\n",
       "      <td>0.0</td>\n",
       "      <td>0.8602</td>\n",
       "      <td>-0.0658</td>\n",
       "      <td>-0.3658</td>\n",
       "      <td>-0.338058</td>\n",
       "      <td>0.746155</td>\n",
       "      <td>-0.765625</td>\n",
       "      <td>-0.078125</td>\n",
       "      <td>0.671875</td>\n",
       "      <td>1.74</td>\n",
       "      <td>4.717312</td>\n",
       "      <td>32.16</td>\n",
       "      <td>49.611369</td>\n",
       "    </tr>\n",
       "    <tr>\n",
       "      <th>4</th>\n",
       "      <td>S1</td>\n",
       "      <td>0.0</td>\n",
       "      <td>0.8518</td>\n",
       "      <td>-0.0658</td>\n",
       "      <td>-0.3724</td>\n",
       "      <td>-0.091919</td>\n",
       "      <td>-1.420593</td>\n",
       "      <td>-0.765625</td>\n",
       "      <td>-0.078125</td>\n",
       "      <td>0.671875</td>\n",
       "      <td>34.08</td>\n",
       "      <td>4.713469</td>\n",
       "      <td>32.16</td>\n",
       "      <td>49.611369</td>\n",
       "    </tr>\n",
       "  </tbody>\n",
       "</table>\n",
       "</div>"
      ],
      "text/plain": [
       "  Subject  Activity  ChestAccChannel1  ChestAccChannel2  ChestAccChannel3  \\\n",
       "0      S1       0.0            0.8868           -0.1014           -0.2738   \n",
       "1      S1       0.0            0.8498           -0.0630           -0.3676   \n",
       "2      S1       0.0            0.8504           -0.0648           -0.3706   \n",
       "3      S1       0.0            0.8602           -0.0658           -0.3658   \n",
       "4      S1       0.0            0.8518           -0.0658           -0.3724   \n",
       "\n",
       "   ChestECG  ChestResp  WristAccChannel1  WristAccChannel2  WristAccChannel3  \\\n",
       "0  0.217026  -3.056335         -0.375000          0.000000          0.937500   \n",
       "1 -0.015930   4.914856         -0.765625         -0.078125          0.671875   \n",
       "2 -0.006912   3.370667         -0.750000         -0.078125          0.671875   \n",
       "3 -0.338058   0.746155         -0.765625         -0.078125          0.671875   \n",
       "4 -0.091919  -1.420593         -0.765625         -0.078125          0.671875   \n",
       "\n",
       "   WristBVP  WristEDA  WristTemp      Label  \n",
       "0    111.06  4.722437      32.13  49.611369  \n",
       "1     -9.84  4.728843      32.16  49.611369  \n",
       "2    -46.31  4.718594      32.16  49.611369  \n",
       "3      1.74  4.717312      32.16  49.611369  \n",
       "4     34.08  4.713469      32.16  49.611369  "
      ]
     },
     "execution_count": 36,
     "metadata": {},
     "output_type": "execute_result"
    }
   ],
   "source": [
    "df1.head()"
   ]
  },
  {
   "cell_type": "code",
   "execution_count": 37,
   "metadata": {},
   "outputs": [],
   "source": [
    "df1[\"Age\"] = 34\n",
    "df1[\"Gender\"] = \"m\"\n",
    "df1[\"Height\"] = 182.0\n",
    "df1[\"Skin\"] = 3\n",
    "df1[\"Sport\"] = 6\n",
    "df1[\"Weight\"] = 78.0"
   ]
  },
  {
   "cell_type": "code",
   "execution_count": 38,
   "metadata": {},
   "outputs": [
    {
     "data": {
      "text/plain": [
       "(36848, 20)"
      ]
     },
     "execution_count": 38,
     "metadata": {},
     "output_type": "execute_result"
    }
   ],
   "source": [
    " df1.shape"
   ]
  },
  {
   "cell_type": "code",
   "execution_count": 39,
   "metadata": {},
   "outputs": [],
   "source": [
    "dfS1 = df1.copy()"
   ]
  },
  {
   "cell_type": "code",
   "execution_count": 40,
   "metadata": {},
   "outputs": [],
   "source": [
    " df1.to_csv('S1.csv')"
   ]
  },
  {
   "cell_type": "code",
   "execution_count": 92,
   "metadata": {},
   "outputs": [],
   "source": [
    " listDeSXDFs = []\n",
    "\n",
    "for x in listDeSX :\n",
    "  listDeSXDFs.append(splitDataframe(x))\n"
   ]
  },
  {
   "cell_type": "code",
   "execution_count": 48,
   "metadata": {},
   "outputs": [],
   "source": [
    " def splitDataframe(dict) :\n",
    "  dfs  = []\n",
    "  pbms = []\n",
    "  oks  = []\n",
    "  #print(f\"all keys : {dict.keys()}\")\n",
    "  for k in dict.keys():\n",
    "      try:\n",
    "          df = pd.DataFrame(dict[k]) \n",
    "          dfs.append(df)\n",
    "          oks.append(k)\n",
    "      except Exception as e:\n",
    "          pbms.append(k + str(e))\n",
    "  #print(f\"clefs ok = {oks}\")\n",
    "  #print(f\"clefs avec un pbms = {pbms}\")\n",
    "  return dfs"
   ]
  },
  {
   "cell_type": "code",
   "execution_count": 49,
   "metadata": {},
   "outputs": [
    {
     "name": "stdout",
     "output_type": "stream",
     "text": [
      "S2 en cours de traitement\n",
      "S3 en cours de traitement\n",
      "S4 en cours de traitement\n",
      "S5 en cours de traitement\n",
      "S6 en cours de traitement\n",
      "S7 en cours de traitement\n",
      "S8 en cours de traitement\n",
      "S9 en cours de traitement\n",
      "S10 en cours de traitement\n",
      "S11 en cours de traitement\n",
      "S12 en cours de traitement\n",
      "S13 en cours de traitement\n",
      "S14 en cours de traitement\n",
      "S15 en cours de traitement\n"
     ]
    }
   ],
   "source": [
    " listDeSXDFs = []\n",
    "for x in listDeSX :\n",
    "  listDeSXDFs.append(splitDataframe(x))\n"
   ]
  },
  {
   "cell_type": "code",
   "execution_count": 53,
   "metadata": {},
   "outputs": [
    {
     "data": {
      "text/plain": [
       "4099"
      ]
     },
     "execution_count": 53,
     "metadata": {},
     "output_type": "execute_result"
    }
   ],
   "source": [
    "len(listDeSXDFs[0][2])"
   ]
  },
  {
   "cell_type": "code",
   "execution_count": 54,
   "metadata": {},
   "outputs": [
    {
     "data": {
      "text/plain": [
       "32820"
      ]
     },
     "execution_count": 54,
     "metadata": {},
     "output_type": "execute_result"
    }
   ],
   "source": [
    "len(listDeSXDFs[0][3])"
   ]
  },
  {
   "cell_type": "code",
   "execution_count": 55,
   "metadata": {},
   "outputs": [],
   "source": [
    " def labelHydrator(dfs) :\n",
    "  #index 2 label\n",
    "  #index 3 activity\n",
    "  lenLabel = len(dfs[2])\n",
    "  lenActivity = len(dfs[3])\n",
    "\n",
    "  # On duplique x8 le label\n",
    "  newLabel = []\n",
    "  for i in range(lenLabel):\n",
    "      for x in range(8):\n",
    "          newLabel.append(dfs[2][0][i])\n",
    "  \n",
    "  lenNewLabel = len(newLabel)\n",
    "  if (lenNewLabel != lenActivity) :\n",
    "    #on peuple le reste avec la dernière valeur\n",
    "    for i in range(0, lenActivity-lenNewLabel) :\n",
    "      newLabel.append(newLabel[lenNewLabel-1])\n",
    "\n",
    "  if (len(newLabel) == lenActivity) :\n",
    "    print(\"Ok pour le df ci-dessus\")\n",
    "\n",
    "  newLabel = pd.DataFrame(newLabel)\n",
    "  return newLabel"
   ]
  },
  {
   "cell_type": "code",
   "execution_count": 56,
   "metadata": {},
   "outputs": [
    {
     "name": "stdout",
     "output_type": "stream",
     "text": [
      "S2 en cours de traitement\n",
      "Ok pour le df ci-dessus\n",
      "S3 en cours de traitement\n",
      "Ok pour le df ci-dessus\n",
      "S4 en cours de traitement\n",
      "Ok pour le df ci-dessus\n",
      "S5 en cours de traitement\n",
      "Ok pour le df ci-dessus\n",
      "S6 en cours de traitement\n",
      "Ok pour le df ci-dessus\n",
      "S7 en cours de traitement\n",
      "Ok pour le df ci-dessus\n",
      "S8 en cours de traitement\n",
      "Ok pour le df ci-dessus\n",
      "S9 en cours de traitement\n",
      "Ok pour le df ci-dessus\n",
      "S10 en cours de traitement\n",
      "Ok pour le df ci-dessus\n",
      "S11 en cours de traitement\n",
      "Ok pour le df ci-dessus\n",
      "S12 en cours de traitement\n",
      "Ok pour le df ci-dessus\n",
      "S13 en cours de traitement\n",
      "Ok pour le df ci-dessus\n",
      "S14 en cours de traitement\n",
      "Ok pour le df ci-dessus\n",
      "S15 en cours de traitement\n",
      "Ok pour le df ci-dessus\n"
     ]
    }
   ],
   "source": [
    "listDeNewLabels = []\n",
    "for x in listDeSXDFs :\n",
    "  newLab = labelHydrator(x)\n",
    "  listDeNewLabels.append(newLab)"
   ]
  },
  {
   "cell_type": "code",
   "execution_count": 58,
   "metadata": {},
   "outputs": [],
   "source": [
    "def chestTreatement(dfs) :\n",
    "  #index 1 signal\n",
    "  i = 0\n",
    "  tabIndex = [] \n",
    "  while i < len(dfs[1][\"chest\"][0]) :\n",
    "    tabIndex.append(i)\n",
    "    i = i + 175\n",
    "\n",
    "  newChestACC = [dfs[1][\"chest\"][0][x-1] for x in tabIndex]\n",
    "\n",
    "  newChestECG = [dfs[1][\"chest\"][1][x-1] for x in tabIndex]\n",
    "\n",
    "  newChestResp = [dfs[1][\"chest\"][5][x-1] for x in tabIndex]\n",
    "\n",
    "  ChestACC = pd.DataFrame(newChestACC)\n",
    "  ChestECG = pd.DataFrame(newChestECG)\n",
    "  ChestResp = pd.DataFrame(newChestResp)\n",
    "\n",
    "  #taille d'activity\n",
    "  if len(newChestACC) == len(dfs[3]) :\n",
    "    print(\"Ok pour ChestACC du DF ci-dessus\")\n",
    "  if len(newChestECG) == len(dfs[3]) :\n",
    "    print(\"Ok pour ChestECG du DF ci-dessus\")\n",
    "  if len(newChestResp) == len(dfs[3]) :\n",
    "    print(\"Ok pour ChestResp du DF ci-dessus\")\n",
    "  \n",
    "  list = []\n",
    "\n",
    "  list.append(ChestACC)\n",
    "  list.append(ChestECG)\n",
    "  list.append(ChestResp)\n",
    "\n",
    "  return list"
   ]
  },
  {
   "cell_type": "code",
   "execution_count": 94,
   "metadata": {},
   "outputs": [
    {
     "name": "stdout",
     "output_type": "stream",
     "text": [
      "Ok pour ChestACC du DF ci-dessus\n",
      "Ok pour ChestECG du DF ci-dessus\n",
      "Ok pour ChestResp du DF ci-dessus\n",
      "Ok pour ChestACC du DF ci-dessus\n",
      "Ok pour ChestECG du DF ci-dessus\n",
      "Ok pour ChestResp du DF ci-dessus\n",
      "Ok pour ChestACC du DF ci-dessus\n",
      "Ok pour ChestECG du DF ci-dessus\n",
      "Ok pour ChestResp du DF ci-dessus\n",
      "Ok pour ChestACC du DF ci-dessus\n",
      "Ok pour ChestECG du DF ci-dessus\n",
      "Ok pour ChestResp du DF ci-dessus\n",
      "Ok pour ChestACC du DF ci-dessus\n",
      "Ok pour ChestECG du DF ci-dessus\n",
      "Ok pour ChestResp du DF ci-dessus\n",
      "Ok pour ChestACC du DF ci-dessus\n",
      "Ok pour ChestECG du DF ci-dessus\n",
      "Ok pour ChestResp du DF ci-dessus\n",
      "Ok pour ChestACC du DF ci-dessus\n",
      "Ok pour ChestECG du DF ci-dessus\n",
      "Ok pour ChestResp du DF ci-dessus\n",
      "Ok pour ChestACC du DF ci-dessus\n",
      "Ok pour ChestECG du DF ci-dessus\n",
      "Ok pour ChestResp du DF ci-dessus\n",
      "Ok pour ChestACC du DF ci-dessus\n",
      "Ok pour ChestECG du DF ci-dessus\n",
      "Ok pour ChestResp du DF ci-dessus\n",
      "Ok pour ChestACC du DF ci-dessus\n",
      "Ok pour ChestECG du DF ci-dessus\n",
      "Ok pour ChestResp du DF ci-dessus\n",
      "Ok pour ChestACC du DF ci-dessus\n",
      "Ok pour ChestECG du DF ci-dessus\n",
      "Ok pour ChestResp du DF ci-dessus\n",
      "Ok pour ChestACC du DF ci-dessus\n",
      "Ok pour ChestECG du DF ci-dessus\n",
      "Ok pour ChestResp du DF ci-dessus\n",
      "Ok pour ChestACC du DF ci-dessus\n",
      "Ok pour ChestECG du DF ci-dessus\n",
      "Ok pour ChestResp du DF ci-dessus\n",
      "Ok pour ChestACC du DF ci-dessus\n",
      "Ok pour ChestECG du DF ci-dessus\n",
      "Ok pour ChestResp du DF ci-dessus\n"
     ]
    }
   ],
   "source": [
    "listDeNewChest = []\n",
    "for x in listDeSXDFs :  \n",
    "  listDeNewChest.append(chestTreatement(x)) "
   ]
  },
  {
   "cell_type": "code",
   "execution_count": 61,
   "metadata": {},
   "outputs": [],
   "source": [
    "def WristTreatement(dfs) :\n",
    "  #index 1 signal\n",
    "  i = 0\n",
    "  tabIndexACC = [] \n",
    "  # i jusque l'index max \n",
    "  while i < len(dfs[1][\"wrist\"][0]) :\n",
    "    tabIndexACC.append(i)\n",
    "    i = i + 8\n",
    "\n",
    "  #tabIndexACC\n",
    "  j = 0\n",
    "  tabIndexBVP = [] \n",
    "  # i jusque l'index max \n",
    "  while j < len(dfs[1][\"wrist\"][6]) :\n",
    "    tabIndexBVP.append(i)\n",
    "    j = j + 16\n",
    "\n",
    "  newWristACC = [dfs[1][\"wrist\"][0][x-1] for x in tabIndexACC]\n",
    "\n",
    "  newWristBVP = [dfs[1][\"wrist\"][6][x-1] for x in tabIndexBVP]\n",
    "\n",
    "  #taille d'activity\n",
    "  if len(newWristACC) == len(dfs[3]) :\n",
    "    print(\"Ok pour WristACC du DF ci-dessus\")\n",
    "  if len(newWristBVP) == len(dfs[3]) :\n",
    "    print(\"Ok pour WristVBP du DF ci-dessus\")\n",
    "  \n",
    "  list = []\n",
    "\n",
    "  list.append(pd.DataFrame(newWristACC))\n",
    "  list.append(pd.DataFrame(newWristBVP))\n",
    "  WristEDA = pd.DataFrame(dfs[1][\"wrist\"][3])\n",
    "  WristTemp = pd.DataFrame(dfs[1][\"wrist\"][7])\n",
    "  list.append(WristEDA)\n",
    "  list.append(WristTemp)\n",
    "\n",
    "  return list"
   ]
  },
  {
   "cell_type": "code",
   "execution_count": 93,
   "metadata": {},
   "outputs": [
    {
     "name": "stdout",
     "output_type": "stream",
     "text": [
      "Ok pour WristACC du DF ci-dessus\n",
      "Ok pour WristVBP du DF ci-dessus\n",
      "Ok pour WristACC du DF ci-dessus\n",
      "Ok pour WristVBP du DF ci-dessus\n",
      "Ok pour WristACC du DF ci-dessus\n",
      "Ok pour WristVBP du DF ci-dessus\n",
      "Ok pour WristACC du DF ci-dessus\n",
      "Ok pour WristVBP du DF ci-dessus\n",
      "Ok pour WristACC du DF ci-dessus\n",
      "Ok pour WristVBP du DF ci-dessus\n",
      "Ok pour WristACC du DF ci-dessus\n",
      "Ok pour WristVBP du DF ci-dessus\n",
      "Ok pour WristACC du DF ci-dessus\n",
      "Ok pour WristVBP du DF ci-dessus\n",
      "Ok pour WristACC du DF ci-dessus\n",
      "Ok pour WristVBP du DF ci-dessus\n",
      "Ok pour WristACC du DF ci-dessus\n",
      "Ok pour WristVBP du DF ci-dessus\n",
      "Ok pour WristACC du DF ci-dessus\n",
      "Ok pour WristVBP du DF ci-dessus\n",
      "Ok pour WristACC du DF ci-dessus\n",
      "Ok pour WristVBP du DF ci-dessus\n",
      "Ok pour WristACC du DF ci-dessus\n",
      "Ok pour WristVBP du DF ci-dessus\n",
      "Ok pour WristACC du DF ci-dessus\n",
      "Ok pour WristVBP du DF ci-dessus\n",
      "Ok pour WristACC du DF ci-dessus\n",
      "Ok pour WristVBP du DF ci-dessus\n"
     ]
    }
   ],
   "source": [
    "listDeNewWrist = []\n",
    "for x in listDeSXDFs :  \n",
    "  listDeNewWrist.append(WristTreatement(x)) "
   ]
  },
  {
   "cell_type": "code",
   "execution_count": 63,
   "metadata": {},
   "outputs": [
    {
     "data": {
      "text/html": [
       "<div>\n",
       "<style scoped>\n",
       "    .dataframe tbody tr th:only-of-type {\n",
       "        vertical-align: middle;\n",
       "    }\n",
       "\n",
       "    .dataframe tbody tr th {\n",
       "        vertical-align: top;\n",
       "    }\n",
       "\n",
       "    .dataframe thead th {\n",
       "        text-align: right;\n",
       "    }\n",
       "</style>\n",
       "<table border=\"1\" class=\"dataframe\">\n",
       "  <thead>\n",
       "    <tr style=\"text-align: right;\">\n",
       "      <th></th>\n",
       "      <th>0</th>\n",
       "      <th>1</th>\n",
       "      <th>2</th>\n",
       "    </tr>\n",
       "  </thead>\n",
       "  <tbody>\n",
       "    <tr>\n",
       "      <th>0</th>\n",
       "      <td>-0.375000</td>\n",
       "      <td>1.062500</td>\n",
       "      <td>0.390625</td>\n",
       "    </tr>\n",
       "    <tr>\n",
       "      <th>1</th>\n",
       "      <td>-0.562500</td>\n",
       "      <td>0.046875</td>\n",
       "      <td>0.843750</td>\n",
       "    </tr>\n",
       "    <tr>\n",
       "      <th>2</th>\n",
       "      <td>-0.562500</td>\n",
       "      <td>0.046875</td>\n",
       "      <td>0.843750</td>\n",
       "    </tr>\n",
       "    <tr>\n",
       "      <th>3</th>\n",
       "      <td>-0.578125</td>\n",
       "      <td>0.046875</td>\n",
       "      <td>0.828125</td>\n",
       "    </tr>\n",
       "    <tr>\n",
       "      <th>4</th>\n",
       "      <td>-0.578125</td>\n",
       "      <td>0.046875</td>\n",
       "      <td>0.828125</td>\n",
       "    </tr>\n",
       "    <tr>\n",
       "      <th>...</th>\n",
       "      <td>...</td>\n",
       "      <td>...</td>\n",
       "      <td>...</td>\n",
       "    </tr>\n",
       "    <tr>\n",
       "      <th>32815</th>\n",
       "      <td>-0.875000</td>\n",
       "      <td>-0.468750</td>\n",
       "      <td>0.156250</td>\n",
       "    </tr>\n",
       "    <tr>\n",
       "      <th>32816</th>\n",
       "      <td>-0.890625</td>\n",
       "      <td>-0.453125</td>\n",
       "      <td>0.109375</td>\n",
       "    </tr>\n",
       "    <tr>\n",
       "      <th>32817</th>\n",
       "      <td>-0.859375</td>\n",
       "      <td>-0.421875</td>\n",
       "      <td>0.109375</td>\n",
       "    </tr>\n",
       "    <tr>\n",
       "      <th>32818</th>\n",
       "      <td>-0.734375</td>\n",
       "      <td>-0.031250</td>\n",
       "      <td>0.078125</td>\n",
       "    </tr>\n",
       "    <tr>\n",
       "      <th>32819</th>\n",
       "      <td>-0.421875</td>\n",
       "      <td>1.031250</td>\n",
       "      <td>0.265625</td>\n",
       "    </tr>\n",
       "  </tbody>\n",
       "</table>\n",
       "<p>32820 rows × 3 columns</p>\n",
       "</div>"
      ],
      "text/plain": [
       "              0         1         2\n",
       "0     -0.375000  1.062500  0.390625\n",
       "1     -0.562500  0.046875  0.843750\n",
       "2     -0.562500  0.046875  0.843750\n",
       "3     -0.578125  0.046875  0.828125\n",
       "4     -0.578125  0.046875  0.828125\n",
       "...         ...       ...       ...\n",
       "32815 -0.875000 -0.468750  0.156250\n",
       "32816 -0.890625 -0.453125  0.109375\n",
       "32817 -0.859375 -0.421875  0.109375\n",
       "32818 -0.734375 -0.031250  0.078125\n",
       "32819 -0.421875  1.031250  0.265625\n",
       "\n",
       "[32820 rows x 3 columns]"
      ]
     },
     "execution_count": 63,
     "metadata": {},
     "output_type": "execute_result"
    }
   ],
   "source": [
    " listDeNewWrist[0][0]\n",
    "    "
   ]
  },
  {
   "cell_type": "code",
   "execution_count": 64,
   "metadata": {},
   "outputs": [
    {
     "name": "stdout",
     "output_type": "stream",
     "text": [
      "[            0       1       2\n",
      "0      0.9006  0.0058 -0.1888\n",
      "1      0.8418  0.2074 -0.2318\n",
      "2      0.8696  0.1694 -0.0550\n",
      "3      0.7682 -0.0682  0.0130\n",
      "4      0.8810  0.0106 -0.0902\n",
      "...       ...     ...     ...\n",
      "31751  0.8890  0.0104 -0.2322\n",
      "31752  0.8970 -0.0184 -0.2230\n",
      "31753  0.9028 -0.0002 -0.2046\n",
      "31754  0.8906 -0.0118 -0.2182\n",
      "31755  0.8894  0.0318 -0.2006\n",
      "\n",
      "[31756 rows x 3 columns],               0\n",
      "0      0.023666\n",
      "1     -0.171341\n",
      "2      0.017441\n",
      "3     -0.251999\n",
      "4      0.126205\n",
      "...         ...\n",
      "31751 -0.282394\n",
      "31752  0.060379\n",
      "31753  0.015244\n",
      "31754 -0.304092\n",
      "31755 -0.069717\n",
      "\n",
      "[31756 rows x 1 columns],                0\n",
      "0      -1.220703\n",
      "1      -0.749207\n",
      "2       6.459045\n",
      "3      13.970947\n",
      "4      15.345764\n",
      "...          ...\n",
      "31751   2.790833\n",
      "31752   0.599670\n",
      "31753  -1.084900\n",
      "31754  -2.049255\n",
      "31755  -2.510071\n",
      "\n",
      "[31756 rows x 1 columns]]\n"
     ]
    }
   ],
   "source": [
    "  print(listDeNewChest[13])"
   ]
  },
  {
   "cell_type": "code",
   "execution_count": 65,
   "metadata": {},
   "outputs": [
    {
     "name": "stdout",
     "output_type": "stream",
     "text": [
      "S2 en cours de traitement\n",
      "S3 en cours de traitement\n",
      "S4 en cours de traitement\n",
      "S5 en cours de traitement\n",
      "S6 en cours de traitement\n",
      "S7 en cours de traitement\n",
      "S8 en cours de traitement\n",
      "S9 en cours de traitement\n",
      "S10 en cours de traitement\n",
      "S11 en cours de traitement\n",
      "S12 en cours de traitement\n",
      "S13 en cours de traitement\n",
      "S14 en cours de traitement\n",
      "S15 en cours de traitement\n"
     ]
    }
   ],
   "source": [
    "i = 0\n",
    "listDeDfFinaux = [] \n",
    "for x in listDeSXDFs :\n",
    "  print(\"S\" + str(i+2) + \" en cours de traitement\")\n",
    "  \n",
    "  df1 = pd.DataFrame(columns = ['Subject', 'Activity'])\n",
    "  df1['Activity'] = x[3][0]\n",
    " \n",
    "  df1['ChestAccChannel1'] = listDeNewChest[i][0][0]\n",
    "  df1['ChestAccChannel2'] = listDeNewChest[i][0][1]\n",
    "  df1['ChestAccChannel3'] = listDeNewChest[i][0][2]\n",
    "  df1['ChestECG'] = listDeNewChest[i][1][0]\n",
    "  df1['ChestResp'] = listDeNewChest[i][2][0]\n",
    "  df1['WristAccChannel1'] = listDeNewWrist[i][0][0]\n",
    "  df1['WristAccChannel2'] = listDeNewWrist[i][0][1]\n",
    "  df1['WristAccChannel3'] = listDeNewWrist[i][0][2]\n",
    "  df1['WristBVP'] = listDeNewWrist[i][1]\n",
    "  df1['WristEDA'] = listDeNewWrist[i][2]\n",
    "  df1['WristTemp'] = listDeNewWrist[i][3]\n",
    "  df1[\"Label\"] = listDeNewLabels[i][0]\n",
    "  df1['Subject'] = listDeSX[i][\"subject\"]\n",
    "  # from questionnaires\n",
    "  df1[\"Age\"] = listDeSX[i][\"questionnaire\"][\"AGE\"]\n",
    "  df1[\"Gender\"] = listDeSX[i][\"questionnaire\"][\"Gender\"]\n",
    "  df1[\"Height\"] = listDeSX[i][\"questionnaire\"][\"HEIGHT\"]\n",
    "  df1[\"Skin\"] = listDeSX[i][\"questionnaire\"][\"SKIN\"]\n",
    "  df1[\"Sport\"] = listDeSX[i][\"questionnaire\"][\"SPORT\"]\n",
    "  df1[\"Weight\"] = listDeSX[i][\"questionnaire\"][\"WEIGHT\"]\n",
    "\n",
    "  listDeDfFinaux.append(df1)\n",
    "\n",
    "  i = i + 1 "
   ]
  },
  {
   "cell_type": "code",
   "execution_count": 66,
   "metadata": {},
   "outputs": [
    {
     "name": "stdout",
     "output_type": "stream",
     "text": [
      "S2 en cours de traitement\n",
      "S3 en cours de traitement\n",
      "S4 en cours de traitement\n",
      "S5 en cours de traitement\n",
      "S6 en cours de traitement\n",
      "S7 en cours de traitement\n",
      "S8 en cours de traitement\n",
      "S9 en cours de traitement\n",
      "S10 en cours de traitement\n",
      "S11 en cours de traitement\n",
      "S12 en cours de traitement\n",
      "S13 en cours de traitement\n",
      "S14 en cours de traitement\n",
      "S15 en cours de traitement\n"
     ]
    }
   ],
   "source": [
    "i = 2 \n",
    "for x in listDeDfFinaux :\n",
    "  x.to_csv('S'+str(i)+'.csv')"
   ]
  },
  {
   "cell_type": "code",
   "execution_count": 67,
   "metadata": {},
   "outputs": [
    {
     "name": "stdout",
     "output_type": "stream",
     "text": [
      " Le volume dans le lecteur C n'a pas de nom.\n",
      " Le num‚ro de s‚rie du volume est AC3D-F2CE\n",
      "\n",
      " R‚pertoire de C:\\Users\\33614\\Desktop\\DataVizProjet\n",
      "\n",
      "01/02/2020  04:36    <DIR>          .\n",
      "01/02/2020  04:36    <DIR>          ..\n",
      "31/01/2020  03:59    <DIR>          .ipynb_checkpoints\n",
      "31/01/2020  00:50    <DIR>          PPG_FieldStudy\n",
      "31/01/2020  04:09                17 README.md\n",
      "01/02/2020  04:17         7ÿ178ÿ086 S1.csv\n",
      "01/02/2020  04:36         8ÿ405ÿ898 S10.csv\n",
      "01/02/2020  04:36         7ÿ167ÿ035 S11.csv\n",
      "01/02/2020  04:36         6ÿ253ÿ277 S12.csv\n",
      "01/02/2020  04:36         7ÿ159ÿ037 S13.csv\n",
      "01/02/2020  04:36         7ÿ097ÿ922 S14.csv\n",
      "01/02/2020  04:36         6ÿ266ÿ475 S15.csv\n",
      "01/02/2020  04:36         6ÿ429ÿ448 S2.csv\n",
      "01/02/2020  04:36         6ÿ818ÿ030 S3.csv\n",
      "01/02/2020  04:36         7ÿ152ÿ511 S4.csv\n",
      "01/02/2020  04:36         7ÿ377ÿ509 S5.csv\n",
      "01/02/2020  04:36         4ÿ119ÿ059 S6.csv\n",
      "01/02/2020  04:36         7ÿ296ÿ709 S7.csv\n",
      "01/02/2020  04:36         6ÿ274ÿ352 S8.csv\n",
      "01/02/2020  04:36         6ÿ693ÿ140 S9.csv\n",
      "01/02/2020  04:31            42ÿ861 Untitled.ipynb\n",
      "              17 fichier(s)      101ÿ731ÿ366 octets\n",
      "               4 R‚p(s)  21ÿ181ÿ222ÿ912 octets libres\n"
     ]
    }
   ],
   "source": [
    "ls"
   ]
  },
  {
   "cell_type": "code",
   "execution_count": 68,
   "metadata": {},
   "outputs": [],
   "source": [
    " listDeDfFinaux.append(dfS1)"
   ]
  },
  {
   "cell_type": "code",
   "execution_count": 69,
   "metadata": {},
   "outputs": [],
   "source": [
    "fullDF = pd.concat(listDeDfFinaux)"
   ]
  },
  {
   "cell_type": "code",
   "execution_count": 70,
   "metadata": {},
   "outputs": [],
   "source": [
    " fullDF.to_csv(\"fullData.csv\")"
   ]
  },
  {
   "cell_type": "code",
   "execution_count": 95,
   "metadata": {},
   "outputs": [],
   "source": [
    "dfr=pd.read_csv(\"fullData.csv\", sep=',', encoding='latin-1')"
   ]
  },
  {
   "cell_type": "code",
   "execution_count": 96,
   "metadata": {},
   "outputs": [],
   "source": [
    "pd.options.display.max_columns =None"
   ]
  },
  {
   "cell_type": "code",
   "execution_count": 97,
   "metadata": {},
   "outputs": [
    {
     "data": {
      "text/html": [
       "<div>\n",
       "<style scoped>\n",
       "    .dataframe tbody tr th:only-of-type {\n",
       "        vertical-align: middle;\n",
       "    }\n",
       "\n",
       "    .dataframe tbody tr th {\n",
       "        vertical-align: top;\n",
       "    }\n",
       "\n",
       "    .dataframe thead th {\n",
       "        text-align: right;\n",
       "    }\n",
       "</style>\n",
       "<table border=\"1\" class=\"dataframe\">\n",
       "  <thead>\n",
       "    <tr style=\"text-align: right;\">\n",
       "      <th></th>\n",
       "      <th>Unnamed: 0</th>\n",
       "      <th>Subject</th>\n",
       "      <th>Activity</th>\n",
       "      <th>ChestAccChannel1</th>\n",
       "      <th>ChestAccChannel2</th>\n",
       "      <th>ChestAccChannel3</th>\n",
       "      <th>ChestECG</th>\n",
       "      <th>ChestResp</th>\n",
       "      <th>WristAccChannel1</th>\n",
       "      <th>WristAccChannel2</th>\n",
       "      <th>WristAccChannel3</th>\n",
       "      <th>WristBVP</th>\n",
       "      <th>WristEDA</th>\n",
       "      <th>WristTemp</th>\n",
       "      <th>Label</th>\n",
       "      <th>Age</th>\n",
       "      <th>Gender</th>\n",
       "      <th>Height</th>\n",
       "      <th>Skin</th>\n",
       "      <th>Sport</th>\n",
       "      <th>Weight</th>\n",
       "    </tr>\n",
       "  </thead>\n",
       "  <tbody>\n",
       "    <tr>\n",
       "      <th>0</th>\n",
       "      <td>0</td>\n",
       "      <td>S2</td>\n",
       "      <td>0.0</td>\n",
       "      <td>0.9162</td>\n",
       "      <td>0.0312</td>\n",
       "      <td>-0.0392</td>\n",
       "      <td>0.071228</td>\n",
       "      <td>4.338074</td>\n",
       "      <td>-0.375000</td>\n",
       "      <td>1.062500</td>\n",
       "      <td>0.390625</td>\n",
       "      <td>-80.38</td>\n",
       "      <td>0.267766</td>\n",
       "      <td>31.67</td>\n",
       "      <td>70.922966</td>\n",
       "      <td>28</td>\n",
       "      <td>m</td>\n",
       "      <td>189.0</td>\n",
       "      <td>3</td>\n",
       "      <td>5</td>\n",
       "      <td>80.0</td>\n",
       "    </tr>\n",
       "    <tr>\n",
       "      <th>1</th>\n",
       "      <td>1</td>\n",
       "      <td>S2</td>\n",
       "      <td>0.0</td>\n",
       "      <td>0.9130</td>\n",
       "      <td>0.0324</td>\n",
       "      <td>0.0478</td>\n",
       "      <td>0.113983</td>\n",
       "      <td>-2.784729</td>\n",
       "      <td>-0.562500</td>\n",
       "      <td>0.046875</td>\n",
       "      <td>0.843750</td>\n",
       "      <td>-80.38</td>\n",
       "      <td>0.262641</td>\n",
       "      <td>31.67</td>\n",
       "      <td>70.922966</td>\n",
       "      <td>28</td>\n",
       "      <td>m</td>\n",
       "      <td>189.0</td>\n",
       "      <td>3</td>\n",
       "      <td>5</td>\n",
       "      <td>80.0</td>\n",
       "    </tr>\n",
       "    <tr>\n",
       "      <th>2</th>\n",
       "      <td>2</td>\n",
       "      <td>S2</td>\n",
       "      <td>0.0</td>\n",
       "      <td>0.9138</td>\n",
       "      <td>0.0362</td>\n",
       "      <td>0.0558</td>\n",
       "      <td>-0.137283</td>\n",
       "      <td>-2.552795</td>\n",
       "      <td>-0.562500</td>\n",
       "      <td>0.046875</td>\n",
       "      <td>0.843750</td>\n",
       "      <td>-80.38</td>\n",
       "      <td>0.261360</td>\n",
       "      <td>31.67</td>\n",
       "      <td>70.922966</td>\n",
       "      <td>28</td>\n",
       "      <td>m</td>\n",
       "      <td>189.0</td>\n",
       "      <td>3</td>\n",
       "      <td>5</td>\n",
       "      <td>80.0</td>\n",
       "    </tr>\n",
       "    <tr>\n",
       "      <th>3</th>\n",
       "      <td>3</td>\n",
       "      <td>S2</td>\n",
       "      <td>0.0</td>\n",
       "      <td>0.9080</td>\n",
       "      <td>0.0166</td>\n",
       "      <td>0.0850</td>\n",
       "      <td>-0.063126</td>\n",
       "      <td>-2.798462</td>\n",
       "      <td>-0.578125</td>\n",
       "      <td>0.046875</td>\n",
       "      <td>0.828125</td>\n",
       "      <td>-80.38</td>\n",
       "      <td>0.260079</td>\n",
       "      <td>31.67</td>\n",
       "      <td>70.922966</td>\n",
       "      <td>28</td>\n",
       "      <td>m</td>\n",
       "      <td>189.0</td>\n",
       "      <td>3</td>\n",
       "      <td>5</td>\n",
       "      <td>80.0</td>\n",
       "    </tr>\n",
       "    <tr>\n",
       "      <th>4</th>\n",
       "      <td>4</td>\n",
       "      <td>S2</td>\n",
       "      <td>0.0</td>\n",
       "      <td>0.9146</td>\n",
       "      <td>0.0366</td>\n",
       "      <td>0.0846</td>\n",
       "      <td>1.487228</td>\n",
       "      <td>-4.518127</td>\n",
       "      <td>-0.578125</td>\n",
       "      <td>0.046875</td>\n",
       "      <td>0.828125</td>\n",
       "      <td>-80.38</td>\n",
       "      <td>0.261360</td>\n",
       "      <td>31.69</td>\n",
       "      <td>70.922966</td>\n",
       "      <td>28</td>\n",
       "      <td>m</td>\n",
       "      <td>189.0</td>\n",
       "      <td>3</td>\n",
       "      <td>5</td>\n",
       "      <td>80.0</td>\n",
       "    </tr>\n",
       "  </tbody>\n",
       "</table>\n",
       "</div>"
      ],
      "text/plain": [
       "   Unnamed: 0 Subject  Activity  ChestAccChannel1  ChestAccChannel2  \\\n",
       "0           0      S2       0.0            0.9162            0.0312   \n",
       "1           1      S2       0.0            0.9130            0.0324   \n",
       "2           2      S2       0.0            0.9138            0.0362   \n",
       "3           3      S2       0.0            0.9080            0.0166   \n",
       "4           4      S2       0.0            0.9146            0.0366   \n",
       "\n",
       "   ChestAccChannel3  ChestECG  ChestResp  WristAccChannel1  WristAccChannel2  \\\n",
       "0           -0.0392  0.071228   4.338074         -0.375000          1.062500   \n",
       "1            0.0478  0.113983  -2.784729         -0.562500          0.046875   \n",
       "2            0.0558 -0.137283  -2.552795         -0.562500          0.046875   \n",
       "3            0.0850 -0.063126  -2.798462         -0.578125          0.046875   \n",
       "4            0.0846  1.487228  -4.518127         -0.578125          0.046875   \n",
       "\n",
       "   WristAccChannel3  WristBVP  WristEDA  WristTemp      Label  Age Gender  \\\n",
       "0          0.390625    -80.38  0.267766      31.67  70.922966   28      m   \n",
       "1          0.843750    -80.38  0.262641      31.67  70.922966   28      m   \n",
       "2          0.843750    -80.38  0.261360      31.67  70.922966   28      m   \n",
       "3          0.828125    -80.38  0.260079      31.67  70.922966   28      m   \n",
       "4          0.828125    -80.38  0.261360      31.69  70.922966   28      m   \n",
       "\n",
       "   Height  Skin  Sport  Weight  \n",
       "0   189.0     3      5    80.0  \n",
       "1   189.0     3      5    80.0  \n",
       "2   189.0     3      5    80.0  \n",
       "3   189.0     3      5    80.0  \n",
       "4   189.0     3      5    80.0  "
      ]
     },
     "execution_count": 97,
     "metadata": {},
     "output_type": "execute_result"
    }
   ],
   "source": [
    "dfr.head(5)"
   ]
  },
  {
   "cell_type": "code",
   "execution_count": 98,
   "metadata": {},
   "outputs": [
    {
     "data": {
      "text/plain": [
       "(517956, 21)"
      ]
     },
     "execution_count": 98,
     "metadata": {},
     "output_type": "execute_result"
    }
   ],
   "source": [
    "dfr.shape\n"
   ]
  },
  {
   "cell_type": "code",
   "execution_count": 99,
   "metadata": {
    "scrolled": false
   },
   "outputs": [
    {
     "name": "stdout",
     "output_type": "stream",
     "text": [
      "['Unnamed: 0', 'Subject', 'Activity', 'ChestAccChannel1', 'ChestAccChannel2', 'ChestAccChannel3', 'ChestECG', 'ChestResp', 'WristAccChannel1', 'WristAccChannel2', 'WristAccChannel3', 'WristBVP', 'WristEDA', 'WristTemp', 'Label', 'Age', 'Gender', 'Height', 'Skin', 'Sport', 'Weight']\n"
     ]
    }
   ],
   "source": [
    "print(list(dfr.columns))"
   ]
  },
  {
   "cell_type": "code",
   "execution_count": 102,
   "metadata": {},
   "outputs": [],
   "source": [
    " x = dfr.copy()"
   ]
  },
  {
   "cell_type": "code",
   "execution_count": 103,
   "metadata": {},
   "outputs": [
    {
     "data": {
      "text/plain": [
       "array(['S2', 'S3', 'S4', 'S5', 'S6', 'S7', 'S8', 'S9', 'S10', 'S11',\n",
       "       'S12', 'S13', 'S14', 'S15', 'S1'], dtype=object)"
      ]
     },
     "execution_count": 103,
     "metadata": {},
     "output_type": "execute_result"
    }
   ],
   "source": [
    "x[\"Subject\"].unique()"
   ]
  },
  {
   "cell_type": "code",
   "execution_count": 104,
   "metadata": {},
   "outputs": [
    {
     "data": {
      "image/png": "[encoded data removed]",
      "text/plain": [
       "<Figure size 432x288 with 1 Axes>"
      ]
     },
     "metadata": {
      "needs_background": "light"
     },
     "output_type": "display_data"
    }
   ],
   "source": [
    "import matplotlib.pyplot as plt\n",
    "import numpy as np\n",
    "\n",
    "plt.scatter(x[\"Subject\"], x[\"Age\"])\n",
    "plt.ylabel('Age')\n",
    "plt.xlabel(\"Sujet\")\n",
    "plt.show()"
   ]
  },
  {
   "cell_type": "code",
   "execution_count": 183,
   "metadata": {},
   "outputs": [
    {
     "data": {
      "image/png": "[encoded data removed]",
      "text/plain": [
       "<Figure size 1512x1512 with 2 Axes>"
      ]
     },
     "metadata": {
      "needs_background": "light"
     },
     "output_type": "display_data"
    }
   ],
   "source": [
    "import matplotlib.pyplot as plt\n",
    "import seaborn as sns\n",
    "correlations = dfr.corr()\n",
    "# plot correlation matrix\n",
    "fig = plt.figure(figsize=(21, 21))\n",
    "ax = fig.add_subplot(111)\n",
    "cax = ax.matshow(correlations, vmin=-1, vmax=1)\n",
    "fig.colorbar(cax)\n",
    "ticks = np.arange(0,19,1)\n",
    "ax.set_xticks(ticks)\n",
    "ax.set_yticks(ticks)\n",
    "ax.set_xticklabels(dfr.columns, rotation=45)\n",
    "ax.set_yticklabels(dfr.columns)\n",
    "plt.show()"
   ]
  },
  {
   "cell_type": "code",
   "execution_count": 118,
   "metadata": {},
   "outputs": [
    {
     "data": {
      "text/plain": [
       "<matplotlib.axes._subplots.AxesSubplot at 0x26d98f4b520>"
      ]
     },
     "execution_count": 118,
     "metadata": {},
     "output_type": "execute_result"
    },
    {
     "data": {
      "image/png": "[encoded data removed]",
      "text/plain": [
       "<Figure size 1440x1440 with 2 Axes>"
      ]
     },
     "metadata": {
      "needs_background": "light"
     },
     "output_type": "display_data"
    }
   ],
   "source": [
    "\n",
    "# Compute the correlation matrix\n",
    "corr = dfr.corr()\n",
    "\n",
    "# Generate a mask for the upper triangle\n",
    "mask = np.triu(np.ones_like(corr, dtype=np.bool))\n",
    "\n",
    "# Set up the matplotlib figure\n",
    "f, ax = plt.subplots(figsize=(20,20))\n",
    "\n",
    "# Generate a custom diverging colormap\n",
    "cmap = sns.diverging_palette(220, 10, as_cmap=True)\n",
    "\n",
    "# Draw the heatmap with the mask and correct aspect ratio\n",
    "sns.heatmap(corr, mask=mask, cmap=cmap, vmax=.3, center=0,\n",
    "            square=True, linewidths=.5, cbar_kws={\"shrink\": .5})"
   ]
  },
  {
   "cell_type": "code",
   "execution_count": 159,
   "metadata": {},
   "outputs": [
    {
     "data": {
      "text/html": [
       "<div>\n",
       "<style scoped>\n",
       "    .dataframe tbody tr th:only-of-type {\n",
       "        vertical-align: middle;\n",
       "    }\n",
       "\n",
       "    .dataframe tbody tr th {\n",
       "        vertical-align: top;\n",
       "    }\n",
       "\n",
       "    .dataframe thead th {\n",
       "        text-align: right;\n",
       "    }\n",
       "</style>\n",
       "<table border=\"1\" class=\"dataframe\">\n",
       "  <thead>\n",
       "    <tr style=\"text-align: right;\">\n",
       "      <th></th>\n",
       "      <th>Unnamed: 0</th>\n",
       "      <th>Subject</th>\n",
       "      <th>Activity</th>\n",
       "      <th>ChestAccChannel1</th>\n",
       "      <th>ChestAccChannel2</th>\n",
       "      <th>ChestAccChannel3</th>\n",
       "      <th>ChestECG</th>\n",
       "      <th>ChestResp</th>\n",
       "      <th>WristAccChannel1</th>\n",
       "      <th>WristAccChannel2</th>\n",
       "      <th>WristAccChannel3</th>\n",
       "      <th>WristBVP</th>\n",
       "      <th>WristEDA</th>\n",
       "      <th>WristTemp</th>\n",
       "      <th>Label</th>\n",
       "      <th>Age</th>\n",
       "      <th>Gender</th>\n",
       "      <th>Height</th>\n",
       "      <th>Skin</th>\n",
       "      <th>Sport</th>\n",
       "      <th>Weight</th>\n",
       "    </tr>\n",
       "  </thead>\n",
       "  <tbody>\n",
       "    <tr>\n",
       "      <th>0</th>\n",
       "      <td>0</td>\n",
       "      <td>S2</td>\n",
       "      <td>0.0</td>\n",
       "      <td>0.9162</td>\n",
       "      <td>0.0312</td>\n",
       "      <td>-0.0392</td>\n",
       "      <td>0.071228</td>\n",
       "      <td>4.338074</td>\n",
       "      <td>-0.375000</td>\n",
       "      <td>1.062500</td>\n",
       "      <td>0.390625</td>\n",
       "      <td>-80.38</td>\n",
       "      <td>0.267766</td>\n",
       "      <td>31.67</td>\n",
       "      <td>70.922966</td>\n",
       "      <td>28</td>\n",
       "      <td>m</td>\n",
       "      <td>189.0</td>\n",
       "      <td>3</td>\n",
       "      <td>5</td>\n",
       "      <td>80.0</td>\n",
       "    </tr>\n",
       "    <tr>\n",
       "      <th>1</th>\n",
       "      <td>1</td>\n",
       "      <td>S2</td>\n",
       "      <td>0.0</td>\n",
       "      <td>0.9130</td>\n",
       "      <td>0.0324</td>\n",
       "      <td>0.0478</td>\n",
       "      <td>0.113983</td>\n",
       "      <td>-2.784729</td>\n",
       "      <td>-0.562500</td>\n",
       "      <td>0.046875</td>\n",
       "      <td>0.843750</td>\n",
       "      <td>-80.38</td>\n",
       "      <td>0.262641</td>\n",
       "      <td>31.67</td>\n",
       "      <td>70.922966</td>\n",
       "      <td>28</td>\n",
       "      <td>m</td>\n",
       "      <td>189.0</td>\n",
       "      <td>3</td>\n",
       "      <td>5</td>\n",
       "      <td>80.0</td>\n",
       "    </tr>\n",
       "    <tr>\n",
       "      <th>2</th>\n",
       "      <td>2</td>\n",
       "      <td>S2</td>\n",
       "      <td>0.0</td>\n",
       "      <td>0.9138</td>\n",
       "      <td>0.0362</td>\n",
       "      <td>0.0558</td>\n",
       "      <td>-0.137283</td>\n",
       "      <td>-2.552795</td>\n",
       "      <td>-0.562500</td>\n",
       "      <td>0.046875</td>\n",
       "      <td>0.843750</td>\n",
       "      <td>-80.38</td>\n",
       "      <td>0.261360</td>\n",
       "      <td>31.67</td>\n",
       "      <td>70.922966</td>\n",
       "      <td>28</td>\n",
       "      <td>m</td>\n",
       "      <td>189.0</td>\n",
       "      <td>3</td>\n",
       "      <td>5</td>\n",
       "      <td>80.0</td>\n",
       "    </tr>\n",
       "    <tr>\n",
       "      <th>3</th>\n",
       "      <td>3</td>\n",
       "      <td>S2</td>\n",
       "      <td>0.0</td>\n",
       "      <td>0.9080</td>\n",
       "      <td>0.0166</td>\n",
       "      <td>0.0850</td>\n",
       "      <td>-0.063126</td>\n",
       "      <td>-2.798462</td>\n",
       "      <td>-0.578125</td>\n",
       "      <td>0.046875</td>\n",
       "      <td>0.828125</td>\n",
       "      <td>-80.38</td>\n",
       "      <td>0.260079</td>\n",
       "      <td>31.67</td>\n",
       "      <td>70.922966</td>\n",
       "      <td>28</td>\n",
       "      <td>m</td>\n",
       "      <td>189.0</td>\n",
       "      <td>3</td>\n",
       "      <td>5</td>\n",
       "      <td>80.0</td>\n",
       "    </tr>\n",
       "    <tr>\n",
       "      <th>4</th>\n",
       "      <td>4</td>\n",
       "      <td>S2</td>\n",
       "      <td>0.0</td>\n",
       "      <td>0.9146</td>\n",
       "      <td>0.0366</td>\n",
       "      <td>0.0846</td>\n",
       "      <td>1.487228</td>\n",
       "      <td>-4.518127</td>\n",
       "      <td>-0.578125</td>\n",
       "      <td>0.046875</td>\n",
       "      <td>0.828125</td>\n",
       "      <td>-80.38</td>\n",
       "      <td>0.261360</td>\n",
       "      <td>31.69</td>\n",
       "      <td>70.922966</td>\n",
       "      <td>28</td>\n",
       "      <td>m</td>\n",
       "      <td>189.0</td>\n",
       "      <td>3</td>\n",
       "      <td>5</td>\n",
       "      <td>80.0</td>\n",
       "    </tr>\n",
       "    <tr>\n",
       "      <th>...</th>\n",
       "      <td>...</td>\n",
       "      <td>...</td>\n",
       "      <td>...</td>\n",
       "      <td>...</td>\n",
       "      <td>...</td>\n",
       "      <td>...</td>\n",
       "      <td>...</td>\n",
       "      <td>...</td>\n",
       "      <td>...</td>\n",
       "      <td>...</td>\n",
       "      <td>...</td>\n",
       "      <td>...</td>\n",
       "      <td>...</td>\n",
       "      <td>...</td>\n",
       "      <td>...</td>\n",
       "      <td>...</td>\n",
       "      <td>...</td>\n",
       "      <td>...</td>\n",
       "      <td>...</td>\n",
       "      <td>...</td>\n",
       "      <td>...</td>\n",
       "    </tr>\n",
       "    <tr>\n",
       "      <th>517951</th>\n",
       "      <td>36843</td>\n",
       "      <td>S1</td>\n",
       "      <td>0.0</td>\n",
       "      <td>0.8968</td>\n",
       "      <td>-0.1138</td>\n",
       "      <td>-0.2486</td>\n",
       "      <td>-0.091324</td>\n",
       "      <td>-2.186584</td>\n",
       "      <td>-0.390625</td>\n",
       "      <td>-0.015625</td>\n",
       "      <td>0.937500</td>\n",
       "      <td>21.06</td>\n",
       "      <td>3.199053</td>\n",
       "      <td>34.37</td>\n",
       "      <td>87.411399</td>\n",
       "      <td>34</td>\n",
       "      <td>m</td>\n",
       "      <td>182.0</td>\n",
       "      <td>3</td>\n",
       "      <td>6</td>\n",
       "      <td>78.0</td>\n",
       "    </tr>\n",
       "    <tr>\n",
       "      <th>517952</th>\n",
       "      <td>36844</td>\n",
       "      <td>S1</td>\n",
       "      <td>0.0</td>\n",
       "      <td>0.8910</td>\n",
       "      <td>-0.1074</td>\n",
       "      <td>-0.2710</td>\n",
       "      <td>-0.163925</td>\n",
       "      <td>-1.922607</td>\n",
       "      <td>-0.406250</td>\n",
       "      <td>-0.046875</td>\n",
       "      <td>0.906250</td>\n",
       "      <td>120.82</td>\n",
       "      <td>3.186241</td>\n",
       "      <td>34.37</td>\n",
       "      <td>87.411399</td>\n",
       "      <td>34</td>\n",
       "      <td>m</td>\n",
       "      <td>182.0</td>\n",
       "      <td>3</td>\n",
       "      <td>6</td>\n",
       "      <td>78.0</td>\n",
       "    </tr>\n",
       "    <tr>\n",
       "      <th>517953</th>\n",
       "      <td>36845</td>\n",
       "      <td>S1</td>\n",
       "      <td>0.0</td>\n",
       "      <td>0.8786</td>\n",
       "      <td>-0.0952</td>\n",
       "      <td>-0.2940</td>\n",
       "      <td>0.071228</td>\n",
       "      <td>-2.622986</td>\n",
       "      <td>-0.359375</td>\n",
       "      <td>0.000000</td>\n",
       "      <td>0.953125</td>\n",
       "      <td>-36.32</td>\n",
       "      <td>3.170867</td>\n",
       "      <td>34.37</td>\n",
       "      <td>87.411399</td>\n",
       "      <td>34</td>\n",
       "      <td>m</td>\n",
       "      <td>182.0</td>\n",
       "      <td>3</td>\n",
       "      <td>6</td>\n",
       "      <td>78.0</td>\n",
       "    </tr>\n",
       "    <tr>\n",
       "      <th>517954</th>\n",
       "      <td>36846</td>\n",
       "      <td>S1</td>\n",
       "      <td>0.0</td>\n",
       "      <td>0.8828</td>\n",
       "      <td>-0.0956</td>\n",
       "      <td>-0.2848</td>\n",
       "      <td>-0.112381</td>\n",
       "      <td>-3.187561</td>\n",
       "      <td>-0.406250</td>\n",
       "      <td>-0.015625</td>\n",
       "      <td>0.921875</td>\n",
       "      <td>-5.94</td>\n",
       "      <td>3.159336</td>\n",
       "      <td>34.37</td>\n",
       "      <td>87.411399</td>\n",
       "      <td>34</td>\n",
       "      <td>m</td>\n",
       "      <td>182.0</td>\n",
       "      <td>3</td>\n",
       "      <td>6</td>\n",
       "      <td>78.0</td>\n",
       "    </tr>\n",
       "    <tr>\n",
       "      <th>517955</th>\n",
       "      <td>36847</td>\n",
       "      <td>S1</td>\n",
       "      <td>0.0</td>\n",
       "      <td>0.8882</td>\n",
       "      <td>-0.0984</td>\n",
       "      <td>-0.2694</td>\n",
       "      <td>1.424606</td>\n",
       "      <td>-3.361511</td>\n",
       "      <td>-0.375000</td>\n",
       "      <td>-0.015625</td>\n",
       "      <td>0.937500</td>\n",
       "      <td>-78.76</td>\n",
       "      <td>3.151649</td>\n",
       "      <td>34.37</td>\n",
       "      <td>87.411399</td>\n",
       "      <td>34</td>\n",
       "      <td>m</td>\n",
       "      <td>182.0</td>\n",
       "      <td>3</td>\n",
       "      <td>6</td>\n",
       "      <td>78.0</td>\n",
       "    </tr>\n",
       "  </tbody>\n",
       "</table>\n",
       "<p>517956 rows × 21 columns</p>\n",
       "</div>"
      ],
      "text/plain": [
       "        Unnamed: 0 Subject  Activity  ChestAccChannel1  ChestAccChannel2  \\\n",
       "0                0      S2       0.0            0.9162            0.0312   \n",
       "1                1      S2       0.0            0.9130            0.0324   \n",
       "2                2      S2       0.0            0.9138            0.0362   \n",
       "3                3      S2       0.0            0.9080            0.0166   \n",
       "4                4      S2       0.0            0.9146            0.0366   \n",
       "...            ...     ...       ...               ...               ...   \n",
       "517951       36843      S1       0.0            0.8968           -0.1138   \n",
       "517952       36844      S1       0.0            0.8910           -0.1074   \n",
       "517953       36845      S1       0.0            0.8786           -0.0952   \n",
       "517954       36846      S1       0.0            0.8828           -0.0956   \n",
       "517955       36847      S1       0.0            0.8882           -0.0984   \n",
       "\n",
       "        ChestAccChannel3  ChestECG  ChestResp  WristAccChannel1  \\\n",
       "0                -0.0392  0.071228   4.338074         -0.375000   \n",
       "1                 0.0478  0.113983  -2.784729         -0.562500   \n",
       "2                 0.0558 -0.137283  -2.552795         -0.562500   \n",
       "3                 0.0850 -0.063126  -2.798462         -0.578125   \n",
       "4                 0.0846  1.487228  -4.518127         -0.578125   \n",
       "...                  ...       ...        ...               ...   \n",
       "517951           -0.2486 -0.091324  -2.186584         -0.390625   \n",
       "517952           -0.2710 -0.163925  -1.922607         -0.406250   \n",
       "517953           -0.2940  0.071228  -2.622986         -0.359375   \n",
       "517954           -0.2848 -0.112381  -3.187561         -0.406250   \n",
       "517955           -0.2694  1.424606  -3.361511         -0.375000   \n",
       "\n",
       "        WristAccChannel2  WristAccChannel3  WristBVP  WristEDA  WristTemp  \\\n",
       "0               1.062500          0.390625    -80.38  0.267766      31.67   \n",
       "1               0.046875          0.843750    -80.38  0.262641      31.67   \n",
       "2               0.046875          0.843750    -80.38  0.261360      31.67   \n",
       "3               0.046875          0.828125    -80.38  0.260079      31.67   \n",
       "4               0.046875          0.828125    -80.38  0.261360      31.69   \n",
       "...                  ...               ...       ...       ...        ...   \n",
       "517951         -0.015625          0.937500     21.06  3.199053      34.37   \n",
       "517952         -0.046875          0.906250    120.82  3.186241      34.37   \n",
       "517953          0.000000          0.953125    -36.32  3.170867      34.37   \n",
       "517954         -0.015625          0.921875     -5.94  3.159336      34.37   \n",
       "517955         -0.015625          0.937500    -78.76  3.151649      34.37   \n",
       "\n",
       "            Label  Age Gender  Height  Skin  Sport  Weight  \n",
       "0       70.922966   28      m   189.0     3      5    80.0  \n",
       "1       70.922966   28      m   189.0     3      5    80.0  \n",
       "2       70.922966   28      m   189.0     3      5    80.0  \n",
       "3       70.922966   28      m   189.0     3      5    80.0  \n",
       "4       70.922966   28      m   189.0     3      5    80.0  \n",
       "...           ...  ...    ...     ...   ...    ...     ...  \n",
       "517951  87.411399   34      m   182.0     3      6    78.0  \n",
       "517952  87.411399   34      m   182.0     3      6    78.0  \n",
       "517953  87.411399   34      m   182.0     3      6    78.0  \n",
       "517954  87.411399   34      m   182.0     3      6    78.0  \n",
       "517955  87.411399   34      m   182.0     3      6    78.0  \n",
       "\n",
       "[517956 rows x 21 columns]"
      ]
     },
     "execution_count": 159,
     "metadata": {},
     "output_type": "execute_result"
    }
   ],
   "source": [
    "##CREATION DE MODELES\n",
    "dfr"
   ]
  },
  {
   "cell_type": "code",
   "execution_count": 127,
   "metadata": {},
   "outputs": [],
   "source": [
    "X = dfr[['Weight', 'Age', 'Height', 'Skin', 'Sport','ChestResp','ChestECG','WristTemp','WristAccChannel1','WristAccChannel2','WristAccChannel3','WristBVP','WristEDA']]\n",
    "y = dfr.Activity"
   ]
  },
  {
   "cell_type": "code",
   "execution_count": 126,
   "metadata": {},
   "outputs": [
    {
     "data": {
      "text/plain": [
       "((388467, 13), (129489, 13), (388467,), (129489,))"
      ]
     },
     "execution_count": 126,
     "metadata": {},
     "output_type": "execute_result"
    }
   ],
   "source": [
    "from sklearn.model_selection import train_test_split\n",
    "features = ['Weight', 'Age', 'Height', 'Skin', 'Sport','ChestResp','ChestECG','WristTemp','WristAccChannel1','WristAccChannel2','WristAccChannel3','WristBVP','WristEDA']\n",
    "X.shape\n",
    "y.shape\n",
    "X_train, X_test, y_train, y_test = train_test_split(X, y, random_state=1234)\n",
    "X_train.shape, X_test.shape, y_train.shape, y_test.shape"
   ]
  },
  {
   "cell_type": "code",
   "execution_count": 129,
   "metadata": {},
   "outputs": [],
   "source": [
    "from sklearn.preprocessing import StandardScaler\n",
    "scaler   = StandardScaler().fit(X_train)\n",
    "X_train  = scaler.transform(X_train)\n",
    "X_test   = scaler.transform(X_test)"
   ]
  },
  {
   "cell_type": "code",
   "execution_count": 130,
   "metadata": {},
   "outputs": [],
   "source": [
    "resultat = dict()"
   ]
  },
  {
   "cell_type": "code",
   "execution_count": 132,
   "metadata": {},
   "outputs": [],
   "source": [
    "import matplotlib.pyplot as plt\n",
    "def get_score(algorithme, X_train, X_test, y_train, y_test, display_graph=False, display_options=True):\n",
    "    if display_options:\n",
    "        print(\"fitting :\\n\"+ str(algorithme))\n",
    "        print(\"X_train:{} , X_test:{} ,  y_train:{} ,  y_test:{}\".format(X_train.shape, X_test.shape, y_train.shape, y_test.shape))\n",
    "    modele = algorithme.fit(X_train, y_train)\n",
    "    score  = modele.score(X_test, y_test)\n",
    "    if display_graph:\n",
    "        plt.scatter(x=y_test, y=algorithme.predict(X_test)) ## Predictions against True values\n",
    "    return score"
   ]
  },
  {
   "cell_type": "code",
   "execution_count": 135,
   "metadata": {},
   "outputs": [
    {
     "name": "stdout",
     "output_type": "stream",
     "text": [
      "fitting :\n",
      "RandomForestRegressor(bootstrap=True, ccp_alpha=0.0, criterion='mse',\n",
      "                      max_depth=None, max_features='auto', max_leaf_nodes=None,\n",
      "                      max_samples=None, min_impurity_decrease=0.0,\n",
      "                      min_impurity_split=None, min_samples_leaf=1,\n",
      "                      min_samples_split=2, min_weight_fraction_leaf=0.0,\n",
      "                      n_estimators=30, n_jobs=None, oob_score=False,\n",
      "                      random_state=None, verbose=0, warm_start=False)\n",
      "X_train:(388467, 13) , X_test:(129489, 13) ,  y_train:(388467,) ,  y_test:(129489,)\n"
     ]
    },
    {
     "data": {
      "text/plain": [
       "0.9523046089311167"
      ]
     },
     "execution_count": 135,
     "metadata": {},
     "output_type": "execute_result"
    }
   ],
   "source": [
    "from sklearn.ensemble import RandomForestRegressor\n",
    "hyperparametres = { 'n_estimators':30 }\n",
    "algorithme = RandomForestRegressor(**hyperparametres)\n",
    "score = get_score(algorithme, X_train, X_test, y_train, y_test)\n",
    "resultat[algorithme] = score\n",
    "score"
   ]
  },
  {
   "cell_type": "code",
   "execution_count": 137,
   "metadata": {},
   "outputs": [
    {
     "name": "stdout",
     "output_type": "stream",
     "text": [
      "fitting :\n",
      "DecisionTreeClassifier(ccp_alpha=0.0, class_weight=None, criterion='gini',\n",
      "                       max_depth=None, max_features=None, max_leaf_nodes=None,\n",
      "                       min_impurity_decrease=0.0, min_impurity_split=None,\n",
      "                       min_samples_leaf=1, min_samples_split=2,\n",
      "                       min_weight_fraction_leaf=0.0, presort='deprecated',\n",
      "                       random_state=None, splitter='best')\n",
      "X_train:(388467, 13) , X_test:(129489, 13) ,  y_train:(388467,) ,  y_test:(129489,)\n"
     ]
    },
    {
     "data": {
      "text/plain": [
       "0.9561275475136884"
      ]
     },
     "execution_count": 137,
     "metadata": {},
     "output_type": "execute_result"
    }
   ],
   "source": [
    "from sklearn.tree import DecisionTreeClassifier\n",
    "algorithme = DecisionTreeClassifier()\n",
    "score = get_score(algorithme, *train_test_split(X, y, random_state=1234))\n",
    "resultat[algorithme] = score\n",
    "score"
   ]
  },
  {
   "cell_type": "code",
   "execution_count": 147,
   "metadata": {},
   "outputs": [
    {
     "name": "stdout",
     "output_type": "stream",
     "text": [
      "fitting :\n",
      "ExtraTreesClassifier(bootstrap=False, ccp_alpha=0.0, class_weight=None,\n",
      "                     criterion='gini', max_depth=None, max_features='auto',\n",
      "                     max_leaf_nodes=None, max_samples=None,\n",
      "                     min_impurity_decrease=0.0, min_impurity_split=None,\n",
      "                     min_samples_leaf=1, min_samples_split=2,\n",
      "                     min_weight_fraction_leaf=0.0, n_estimators=100,\n",
      "                     n_jobs=None, oob_score=False, random_state=None, verbose=0,\n",
      "                     warm_start=False)\n",
      "X_train:(388467, 13) , X_test:(129489, 13) ,  y_train:(388467,) ,  y_test:(129489,)\n"
     ]
    },
    {
     "data": {
      "text/plain": [
       "0.9756658866776329"
      ]
     },
     "execution_count": 147,
     "metadata": {},
     "output_type": "execute_result"
    }
   ],
   "source": [
    "from sklearn.ensemble import ExtraTreesClassifier\n",
    "algorithme = ExtraTreesClassifier()\n",
    "score = get_score(algorithme, *train_test_split(X, y, random_state=1234))\n",
    "resultat[algorithme] = score\n",
    "score"
   ]
  },
  {
   "cell_type": "code",
   "execution_count": 145,
   "metadata": {},
   "outputs": [
    {
     "data": {
      "text/html": [
       "<div>\n",
       "<style scoped>\n",
       "    .dataframe tbody tr th:only-of-type {\n",
       "        vertical-align: middle;\n",
       "    }\n",
       "\n",
       "    .dataframe tbody tr th {\n",
       "        vertical-align: top;\n",
       "    }\n",
       "\n",
       "    .dataframe thead th {\n",
       "        text-align: right;\n",
       "    }\n",
       "</style>\n",
       "<table border=\"1\" class=\"dataframe\">\n",
       "  <thead>\n",
       "    <tr style=\"text-align: right;\">\n",
       "      <th></th>\n",
       "      <th>resultat</th>\n",
       "      <th>algorythme</th>\n",
       "    </tr>\n",
       "    <tr>\n",
       "      <th>NOM_ALGO</th>\n",
       "      <th></th>\n",
       "      <th></th>\n",
       "    </tr>\n",
       "  </thead>\n",
       "  <tbody>\n",
       "    <tr>\n",
       "      <th>RandomForestRegressor</th>\n",
       "      <td>0.952305</td>\n",
       "      <td>(DecisionTreeRegressor(ccp_alpha=0.0, criterio...</td>\n",
       "    </tr>\n",
       "    <tr>\n",
       "      <th>DecisionTreeClassifier</th>\n",
       "      <td>0.956128</td>\n",
       "      <td>DecisionTreeClassifier(ccp_alpha=0.0, class_we...</td>\n",
       "    </tr>\n",
       "    <tr>\n",
       "      <th>ExtraTreesClassifier</th>\n",
       "      <td>0.975774</td>\n",
       "      <td>(ExtraTreeClassifier(ccp_alpha=0.0, class_weig...</td>\n",
       "    </tr>\n",
       "  </tbody>\n",
       "</table>\n",
       "</div>"
      ],
      "text/plain": [
       "                        resultat  \\\n",
       "NOM_ALGO                           \n",
       "RandomForestRegressor   0.952305   \n",
       "DecisionTreeClassifier  0.956128   \n",
       "ExtraTreesClassifier    0.975774   \n",
       "\n",
       "                                                               algorythme  \n",
       "NOM_ALGO                                                                   \n",
       "RandomForestRegressor   (DecisionTreeRegressor(ccp_alpha=0.0, criterio...  \n",
       "DecisionTreeClassifier  DecisionTreeClassifier(ccp_alpha=0.0, class_we...  \n",
       "ExtraTreesClassifier    (ExtraTreeClassifier(ccp_alpha=0.0, class_weig...  "
      ]
     },
     "execution_count": 145,
     "metadata": {},
     "output_type": "execute_result"
    }
   ],
   "source": [
    "from collections import OrderedDict\n",
    "dico_ordonne = OrderedDict(resultat)\n",
    "df = pd.DataFrame()\n",
    "df[\"resultat\"] = dico_ordonne.values()\n",
    "df[\"algorithme\"] = dico_ordonne.keys()\n",
    "df['NOM_ALGO'] = df.algorithme.apply(lambda algorythme: str(algorithme).split('(')[0])\n",
    "df.set_index('NOM_ALGO', inplace=True)\n",
    "df"
   ]
  },
  {
   "cell_type": "code",
   "execution_count": 158,
   "metadata": {},
   "outputs": [
    {
     "data": {
      "text/plain": [
       "<matplotlib.axes._subplots.AxesSubplot at 0x26dcc862760>"
      ]
     },
     "execution_count": 158,
     "metadata": {},
     "output_type": "execute_result"
    },
    {
     "data": {
      "image/png": "[encoded data removed]",
      "text/plain": [
       "<Figure size 432x288 with 1 Axes>"
      ]
     },
     "metadata": {
      "needs_background": "light"
     },
     "output_type": "display_data"
    }
   ],
   "source": [
    "df[[\"resultat\"]].plot(kind='bar', rot=60)"
   ]
  },
  {
   "cell_type": "code",
   "execution_count": 167,
   "metadata": {},
   "outputs": [
    {
     "data": {
      "text/plain": [
       "DecisionTreeClassifier(ccp_alpha=0.0, class_weight=None, criterion='gini',\n",
       "                       max_depth=None, max_features=None, max_leaf_nodes=None,\n",
       "                       min_impurity_decrease=0.0, min_impurity_split=None,\n",
       "                       min_samples_leaf=1, min_samples_split=2,\n",
       "                       min_weight_fraction_leaf=0.0, presort='deprecated',\n",
       "                       random_state=None, splitter='best')"
      ]
     },
     "execution_count": 167,
     "metadata": {},
     "output_type": "execute_result"
    }
   ],
   "source": [
    "X_train_for_django = X_train\n",
    "model_for_django = DecisionTreeClassifier()\n",
    "model_for_django.fit(X_train_for_django, y_train)"
   ]
  },
  {
   "cell_type": "code",
   "execution_count": 173,
   "metadata": {},
   "outputs": [],
   "source": [
    "import pickle\n",
    "path = './DjangoRestML/DjangoRestML/models/DecisionTreeClassifier'\n",
    "with open(path, 'wb') as file:\n",
    "    pickle.dump(algorithme, file)"
   ]
  },
  {
   "cell_type": "code",
   "execution_count": null,
   "metadata": {},
   "outputs": [],
   "source": []
  }
 ],
 "metadata": {
  "kernelspec": {
   "display_name": "Python 3",
   "language": "python",
   "name": "python3"
  },
  "language_info": {
   "codemirror_mode": {
    "name": "ipython",
    "version": 3
   },
   "file_extension": ".py",
   "mimetype": "text/x-python",
   "name": "python",
   "nbconvert_exporter": "python",
   "pygments_lexer": "ipython3",
   "version": "3.8.0"
  }
 },
 "nbformat": 4,
 "nbformat_minor": 4
}
